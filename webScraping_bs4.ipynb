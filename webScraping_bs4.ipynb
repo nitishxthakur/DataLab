{
  "nbformat": 4,
  "nbformat_minor": 0,
  "metadata": {
    "colab": {
      "provenance": [],
      "authorship_tag": "ABX9TyMgjmEmWQpSybHAJyZzHvYG",
      "include_colab_link": true
    },
    "kernelspec": {
      "name": "python3",
      "display_name": "Python 3"
    },
    "language_info": {
      "name": "python"
    }
  },
  "cells": [
    {
      "cell_type": "markdown",
      "metadata": {
        "id": "view-in-github",
        "colab_type": "text"
      },
      "source": [
        "<a href=\"https://colab.research.google.com/github/nitishxthakur/DataLab/blob/main/webScraping_bs4.ipynb\" target=\"_parent\"><img src=\"https://colab.research.google.com/assets/colab-badge.svg\" alt=\"Open In Colab\"/></a>"
      ]
    },
    {
      "cell_type": "code",
      "execution_count": 1,
      "metadata": {
        "id": "8izGf0EFkSKK"
      },
      "outputs": [],
      "source": [
        "import requests"
      ]
    },
    {
      "cell_type": "code",
      "source": [
        "page=requests.get('https://en.wikipedia.org/wiki/COVID-19_pandemic_in_Indiahttps://en.wikipedia.org/wiki/COVID-19_pandemic_in_India')"
      ],
      "metadata": {
        "id": "UwnS2M3I5rOF"
      },
      "execution_count": 2,
      "outputs": []
    },
    {
      "cell_type": "code",
      "source": [
        "page.content"
      ],
      "metadata": {
        "colab": {
          "base_uri": "https://localhost:8080/"
        },
        "id": "Sh2Oy9Ns6QqO",
        "outputId": "7953764b-a22c-4af5-ef6b-e323cfbd2924"
      },
      "execution_count": 3,
      "outputs": [
        {
          "output_type": "execute_result",
          "data": {
            "text/plain": [
              "b'<!DOCTYPE html>\\n<html class=\"client-nojs vector-feature-language-in-header-enabled vector-feature-language-in-main-page-header-disabled vector-feature-sticky-header-disabled vector-feature-page-tools-pinned-disabled vector-feature-toc-pinned-clientpref-1 vector-feature-main-menu-pinned-disabled vector-feature-limited-width-clientpref-1 vector-feature-limited-width-content-enabled vector-feature-custom-font-size-clientpref-1 vector-feature-appearance-pinned-clientpref-1 vector-feature-night-mode-enabled skin-theme-clientpref-day vector-toc-not-available\" lang=\"en\" dir=\"ltr\">\\n<head>\\n<meta charset=\"UTF-8\">\\n<title>COVID-19 pandemic in Indiahttps://en.wikipedia.org/wiki/COVID-19 pandemic in India - Wikipedia</title>\\n<script>(function(){var className=\"client-js vector-feature-language-in-header-enabled vector-feature-language-in-main-page-header-disabled vector-feature-sticky-header-disabled vector-feature-page-tools-pinned-disabled vector-feature-toc-pinned-clientpref-1 vector-feature-main-menu-pinned-disabled vector-feature-limited-width-clientpref-1 vector-feature-limited-width-content-enabled vector-feature-custom-font-size-clientpref-1 vector-feature-appearance-pinned-clientpref-1 vector-feature-night-mode-enabled skin-theme-clientpref-day vector-toc-not-available\";var cookie=document.cookie.match(/(?:^|; )enwikimwclientpreferences=([^;]+)/);if(cookie){cookie[1].split(\\'%2C\\').forEach(function(pref){className=className.replace(new RegExp(\\'(^| )\\'+pref.replace(/-clientpref-\\\\w+$|[^\\\\w-]+/g,\\'\\')+\\'-clientpref-\\\\\\\\w+( |$)\\'),\\'$1\\'+pref+\\'$2\\');});}document.documentElement.className=className;}());RLCONF={\"wgBreakFrames\":false,\"wgSeparatorTransformTable\":[\"\",\"\"],\"wgDigitTransformTable\":[\"\",\"\"],\"wgDefaultDateFormat\":\\n\"dmy\",\"wgMonthNames\":[\"\",\"January\",\"February\",\"March\",\"April\",\"May\",\"June\",\"July\",\"August\",\"September\",\"October\",\"November\",\"December\"],\"wgRequestId\":\"7c88f416-09ab-4531-8e63-62518d7c1da8\",\"wgCanonicalNamespace\":\"\",\"wgCanonicalSpecialPageName\":false,\"wgNamespaceNumber\":0,\"wgPageName\":\"COVID-19_pandemic_in_Indiahttps://en.wikipedia.org/wiki/COVID-19_pandemic_in_India\",\"wgTitle\":\"COVID-19 pandemic in Indiahttps://en.wikipedia.org/wiki/COVID-19 pandemic in India\",\"wgCurRevisionId\":0,\"wgRevisionId\":0,\"wgArticleId\":0,\"wgIsArticle\":true,\"wgIsRedirect\":false,\"wgAction\":\"view\",\"wgUserName\":null,\"wgUserGroups\":[\"*\"],\"wgCategories\":[],\"wgPageViewLanguage\":\"en\",\"wgPageContentLanguage\":\"en\",\"wgPageContentModel\":\"wikitext\",\"wgRelevantPageName\":\"COVID-19_pandemic_in_Indiahttps://en.wikipedia.org/wiki/COVID-19_pandemic_in_India\",\"wgRelevantArticleId\":0,\"wgIsProbablyEditable\":false,\"wgRelevantPageIsProbablyEditable\":false,\"wgRestrictionCreate\":[],\"wgNoticeProject\":\"wikipedia\",\\n\"wgCiteReferencePreviewsActive\":false,\"wgFlaggedRevsParams\":{\"tags\":{\"status\":{\"levels\":1}}},\"wgMediaViewerOnClick\":true,\"wgMediaViewerEnabledByDefault\":true,\"wgPopupsFlags\":0,\"wgVisualEditor\":{\"pageLanguageCode\":\"en\",\"pageLanguageDir\":\"ltr\",\"pageVariantFallbacks\":\"en\"},\"wgMFDisplayWikibaseDescriptions\":{\"search\":true,\"watchlist\":true,\"tagline\":false,\"nearby\":true},\"wgWMESchemaEditAttemptStepOversample\":false,\"wgWMEPageLength\":0,\"wgRelatedArticlesCompat\":[],\"wgEditSubmitButtonLabelPublish\":true,\"wgULSPosition\":\"interlanguage\",\"wgULSisCompactLinksEnabled\":false,\"wgVector2022LanguageInHeader\":true,\"wgULSisLanguageSelectorEmpty\":true,\"wgCheckUserClientHintsHeadersJsApi\":[\"brands\",\"architecture\",\"bitness\",\"fullVersionList\",\"mobile\",\"model\",\"platform\",\"platformVersion\"],\"GEHomepageSuggestedEditsEnableTopics\":true,\"wgGETopicsMatchModeEnabled\":false,\"wgGEStructuredTaskRejectionReasonTextInputEnabled\":false,\"wgGELevelingUpEnabledForUser\":false};RLSTATE={\"ext.globalCssJs.user.styles\":\"ready\",\\n\"site.styles\":\"ready\",\"user.styles\":\"ready\",\"ext.globalCssJs.user\":\"ready\",\"user\":\"ready\",\"user.options\":\"loading\",\"skins.vector.search.codex.styles\":\"ready\",\"skins.vector.styles\":\"ready\",\"skins.vector.icons\":\"ready\",\"ext.wikimediamessages.styles\":\"ready\",\"ext.visualEditor.desktopArticleTarget.noscript\":\"ready\",\"ext.uls.interlanguage\":\"ready\",\"ext.wikimediaBadges\":\"ready\"};RLPAGEMODULES=[\"site\",\"mediawiki.page.ready\",\"skins.vector.js\",\"ext.centralNotice.geoIP\",\"ext.centralNotice.startUp\",\"ext.gadget.ReferenceTooltips\",\"ext.gadget.switcher\",\"ext.urlShortener.toolbar\",\"ext.centralauth.centralautologin\",\"mmv.bootstrap\",\"ext.popups\",\"ext.visualEditor.desktopArticleTarget.init\",\"ext.visualEditor.targetLoader\",\"ext.echo.centralauth\",\"ext.eventLogging\",\"ext.wikimediaEvents\",\"ext.navigationTiming\",\"ext.uls.interface\",\"ext.cx.eventlogging.campaigns\",\"ext.checkUser.clientHints\",\"ext.growthExperiments.SuggestedEditSession\"];</script>\\n<script>(RLQ=window.RLQ||[]).push(function(){mw.loader.impl(function(){return[\"user.options@12s5i\",function($,jQuery,require,module){mw.user.tokens.set({\"patrolToken\":\"+\\\\\\\\\",\"watchToken\":\"+\\\\\\\\\",\"csrfToken\":\"+\\\\\\\\\"});\\n}];});});</script>\\n<link rel=\"stylesheet\" href=\"/w/load.php?lang=en&amp;modules=ext.uls.interlanguage%7Cext.visualEditor.desktopArticleTarget.noscript%7Cext.wikimediaBadges%7Cext.wikimediamessages.styles%7Cskins.vector.icons%2Cstyles%7Cskins.vector.search.codex.styles&amp;only=styles&amp;skin=vector-2022\">\\n<script async=\"\" src=\"/w/load.php?lang=en&amp;modules=startup&amp;only=scripts&amp;raw=1&amp;skin=vector-2022\"></script>\\n<meta name=\"ResourceLoaderDynamicStyles\" content=\"\">\\n<link rel=\"stylesheet\" href=\"/w/load.php?lang=en&amp;modules=site.styles&amp;only=styles&amp;skin=vector-2022\">\\n<meta name=\"generator\" content=\"MediaWiki 1.44.0-wmf.6\">\\n<meta name=\"referrer\" content=\"origin\">\\n<meta name=\"referrer\" content=\"origin-when-cross-origin\">\\n<meta name=\"robots\" content=\"noindex,nofollow,max-image-preview:standard\">\\n<meta name=\"format-detection\" content=\"telephone=no\">\\n<meta name=\"viewport\" content=\"width=1120\">\\n<meta property=\"og:title\" content=\"COVID-19 pandemic in Indiahttps://en.wikipedia.org/wiki/COVID-19 pandemic in India - Wikipedia\">\\n<meta property=\"og:type\" content=\"website\">\\n<link rel=\"preconnect\" href=\"//upload.wikimedia.org\">\\n<link rel=\"alternate\" media=\"only screen and (max-width: 640px)\" href=\"//en.m.wikipedia.org/wiki/COVID-19_pandemic_in_Indiahttps://en.wikipedia.org/wiki/COVID-19_pandemic_in_India\">\\n<link rel=\"apple-touch-icon\" href=\"/static/apple-touch/wikipedia.png\">\\n<link rel=\"icon\" href=\"/static/favicon/wikipedia.ico\">\\n<link rel=\"search\" type=\"application/opensearchdescription+xml\" href=\"/w/rest.php/v1/search\" title=\"Wikipedia (en)\">\\n<link rel=\"EditURI\" type=\"application/rsd+xml\" href=\"//en.wikipedia.org/w/api.php?action=rsd\">\\n<link rel=\"canonical\" href=\"https://en.wikipedia.org/wiki/COVID-19_pandemic_in_Indiahttps://en.wikipedia.org/wiki/COVID-19_pandemic_in_India\">\\n<link rel=\"license\" href=\"https://creativecommons.org/licenses/by-sa/4.0/deed.en\">\\n<link rel=\"alternate\" type=\"application/atom+xml\" title=\"Wikipedia Atom feed\" href=\"/w/index.php?title=Special:RecentChanges&amp;feed=atom\">\\n<link rel=\"dns-prefetch\" href=\"//meta.wikimedia.org\" />\\n<link rel=\"dns-prefetch\" href=\"login.wikimedia.org\">\\n</head>\\n<body class=\"skin--responsive skin-vector skin-vector-search-vue mediawiki ltr sitedir-ltr mw-hide-empty-elt ns-0 ns-subject page-COVID-19_pandemic_in_Indiahttps_en_wikipedia_org_wiki_COVID-19_pandemic_in_India rootpage-COVID-19_pandemic_in_Indiahttps_en_wikipedia_org_wiki_COVID-19_pandemic_in_India skin-vector-2022 action-view\"><a class=\"mw-jump-link\" href=\"#bodyContent\">Jump to content</a>\\n<div class=\"vector-header-container\">\\n\\t<header class=\"vector-header mw-header\">\\n\\t\\t<div class=\"vector-header-start\">\\n\\t\\t\\t<nav class=\"vector-main-menu-landmark\" aria-label=\"Site\">\\n\\t\\t\\t\\t\\n<div id=\"vector-main-menu-dropdown\" class=\"vector-dropdown vector-main-menu-dropdown vector-button-flush-left vector-button-flush-right\"  >\\n\\t<input type=\"checkbox\" id=\"vector-main-menu-dropdown-checkbox\" role=\"button\" aria-haspopup=\"true\" data-event-name=\"ui.dropdown-vector-main-menu-dropdown\" class=\"vector-dropdown-checkbox \"  aria-label=\"Main menu\"  >\\n\\t<label id=\"vector-main-menu-dropdown-label\" for=\"vector-main-menu-dropdown-checkbox\" class=\"vector-dropdown-label cdx-button cdx-button--fake-button cdx-button--fake-button--enabled cdx-button--weight-quiet cdx-button--icon-only \" aria-hidden=\"true\"  ><span class=\"vector-icon mw-ui-icon-menu mw-ui-icon-wikimedia-menu\"></span>\\n\\n<span class=\"vector-dropdown-label-text\">Main menu</span>\\n\\t</label>\\n\\t<div class=\"vector-dropdown-content\">\\n\\n\\n\\t\\t\\t\\t<div id=\"vector-main-menu-unpinned-container\" class=\"vector-unpinned-container\">\\n\\t\\t\\n<div id=\"vector-main-menu\" class=\"vector-main-menu vector-pinnable-element\">\\n\\t<div\\n\\tclass=\"vector-pinnable-header vector-main-menu-pinnable-header vector-pinnable-header-unpinned\"\\n\\tdata-feature-name=\"main-menu-pinned\"\\n\\tdata-pinnable-element-id=\"vector-main-menu\"\\n\\tdata-pinned-container-id=\"vector-main-menu-pinned-container\"\\n\\tdata-unpinned-container-id=\"vector-main-menu-unpinned-container\"\\n>\\n\\t<div class=\"vector-pinnable-header-label\">Main menu</div>\\n\\t<button class=\"vector-pinnable-header-toggle-button vector-pinnable-header-pin-button\" data-event-name=\"pinnable-header.vector-main-menu.pin\">move to sidebar</button>\\n\\t<button class=\"vector-pinnable-header-toggle-button vector-pinnable-header-unpin-button\" data-event-name=\"pinnable-header.vector-main-menu.unpin\">hide</button>\\n</div>\\n\\n\\t\\n<div id=\"p-navigation\" class=\"vector-menu mw-portlet mw-portlet-navigation\"  >\\n\\t<div class=\"vector-menu-heading\">\\n\\t\\tNavigation\\n\\t</div>\\n\\t<div class=\"vector-menu-content\">\\n\\t\\t\\n\\t\\t<ul class=\"vector-menu-content-list\">\\n\\t\\t\\t\\n\\t\\t\\t<li id=\"n-mainpage-description\" class=\"mw-list-item\"><a href=\"/wiki/Main_Page\" title=\"Visit the main page [z]\" accesskey=\"z\"><span>Main page</span></a></li><li id=\"n-contents\" class=\"mw-list-item\"><a href=\"/wiki/Wikipedia:Contents\" title=\"Guides to browsing Wikipedia\"><span>Contents</span></a></li><li id=\"n-currentevents\" class=\"mw-list-item\"><a href=\"/wiki/Portal:Current_events\" title=\"Articles related to current events\"><span>Current events</span></a></li><li id=\"n-randompage\" class=\"mw-list-item\"><a href=\"/wiki/Special:Random\" title=\"Visit a randomly selected article [x]\" accesskey=\"x\"><span>Random article</span></a></li><li id=\"n-aboutsite\" class=\"mw-list-item\"><a href=\"/wiki/Wikipedia:About\" title=\"Learn about Wikipedia and how it works\"><span>About Wikipedia</span></a></li><li id=\"n-contactpage\" class=\"mw-list-item\"><a href=\"//en.wikipedia.org/wiki/Wikipedia:Contact_us\" title=\"How to contact Wikipedia\"><span>Contact us</span></a></li>\\n\\t\\t</ul>\\n\\t\\t\\n\\t</div>\\n</div>\\n\\n\\t\\n\\t\\n<div id=\"p-interaction\" class=\"vector-menu mw-portlet mw-portlet-interaction\"  >\\n\\t<div class=\"vector-menu-heading\">\\n\\t\\tContribute\\n\\t</div>\\n\\t<div class=\"vector-menu-content\">\\n\\t\\t\\n\\t\\t<ul class=\"vector-menu-content-list\">\\n\\t\\t\\t\\n\\t\\t\\t<li id=\"n-help\" class=\"mw-list-item\"><a href=\"/wiki/Help:Contents\" title=\"Guidance on how to use and edit Wikipedia\"><span>Help</span></a></li><li id=\"n-introduction\" class=\"mw-list-item\"><a href=\"/wiki/Help:Introduction\" title=\"Learn how to edit Wikipedia\"><span>Learn to edit</span></a></li><li id=\"n-portal\" class=\"mw-list-item\"><a href=\"/wiki/Wikipedia:Community_portal\" title=\"The hub for editors\"><span>Community portal</span></a></li><li id=\"n-recentchanges\" class=\"mw-list-item\"><a href=\"/wiki/Special:RecentChanges\" title=\"A list of recent changes to Wikipedia [r]\" accesskey=\"r\"><span>Recent changes</span></a></li><li id=\"n-upload\" class=\"mw-list-item\"><a href=\"/wiki/Wikipedia:File_upload_wizard\" title=\"Add images or other media for use on Wikipedia\"><span>Upload file</span></a></li>\\n\\t\\t</ul>\\n\\t\\t\\n\\t</div>\\n</div>\\n\\n</div>\\n\\n\\t\\t\\t\\t</div>\\n\\n\\t</div>\\n</div>\\n\\n\\t\\t</nav>\\n\\t\\t\\t\\n<a href=\"/wiki/Main_Page\" class=\"mw-logo\">\\n\\t<img class=\"mw-logo-icon\" src=\"/static/images/icons/wikipedia.png\" alt=\"\" aria-hidden=\"true\" height=\"50\" width=\"50\">\\n\\t<span class=\"mw-logo-container skin-invert\">\\n\\t\\t<img class=\"mw-logo-wordmark\" alt=\"Wikipedia\" src=\"/static/images/mobile/copyright/wikipedia-wordmark-en.svg\" style=\"width: 7.5em; height: 1.125em;\">\\n\\t\\t<img class=\"mw-logo-tagline\" alt=\"The Free Encyclopedia\" src=\"/static/images/mobile/copyright/wikipedia-tagline-en.svg\" width=\"117\" height=\"13\" style=\"width: 7.3125em; height: 0.8125em;\">\\n\\t</span>\\n</a>\\n\\n\\t\\t</div>\\n\\t\\t<div class=\"vector-header-end\">\\n\\t\\t\\t\\n<div id=\"p-search\" role=\"search\" class=\"vector-search-box-vue  vector-search-box-collapses vector-search-box-show-thumbnail vector-search-box-auto-expand-width vector-search-box\">\\n\\t<a href=\"/wiki/Special:Search\" class=\"cdx-button cdx-button--fake-button cdx-button--fake-button--enabled cdx-button--weight-quiet cdx-button--icon-only search-toggle\" title=\"Search Wikipedia [f]\" accesskey=\"f\"><span class=\"vector-icon mw-ui-icon-search mw-ui-icon-wikimedia-search\"></span>\\n\\n<span>Search</span>\\n\\t</a>\\n\\t<div class=\"vector-typeahead-search-container\">\\n\\t\\t<div class=\"cdx-typeahead-search cdx-typeahead-search--show-thumbnail cdx-typeahead-search--auto-expand-width\">\\n\\t\\t\\t<form action=\"/w/index.php\" id=\"searchform\" class=\"cdx-search-input cdx-search-input--has-end-button\">\\n\\t\\t\\t\\t<div id=\"simpleSearch\" class=\"cdx-search-input__input-wrapper\"  data-search-loc=\"header-moved\">\\n\\t\\t\\t\\t\\t<div class=\"cdx-text-input cdx-text-input--has-start-icon\">\\n\\t\\t\\t\\t\\t\\t<input\\n\\t\\t\\t\\t\\t\\t\\tclass=\"cdx-text-input__input\"\\n\\t\\t\\t\\t\\t\\t\\t type=\"search\" name=\"search\" placeholder=\"Search Wikipedia\" aria-label=\"Search Wikipedia\" autocapitalize=\"sentences\" title=\"Search Wikipedia [f]\" accesskey=\"f\" id=\"searchInput\"\\n\\t\\t\\t\\t\\t\\t\\t>\\n\\t\\t\\t\\t\\t\\t<span class=\"cdx-text-input__icon cdx-text-input__start-icon\"></span>\\n\\t\\t\\t\\t\\t</div>\\n\\t\\t\\t\\t\\t<input type=\"hidden\" name=\"title\" value=\"Special:Search\">\\n\\t\\t\\t\\t</div>\\n\\t\\t\\t\\t<button class=\"cdx-button cdx-search-input__end-button\">Search</button>\\n\\t\\t\\t</form>\\n\\t\\t</div>\\n\\t</div>\\n</div>\\n\\n\\t\\t\\t<nav class=\"vector-user-links vector-user-links-wide\" aria-label=\"Personal tools\">\\n\\t<div class=\"vector-user-links-main\">\\n\\t\\n<div id=\"p-vector-user-menu-preferences\" class=\"vector-menu mw-portlet emptyPortlet\"  >\\n\\t<div class=\"vector-menu-content\">\\n\\t\\t\\n\\t\\t<ul class=\"vector-menu-content-list\">\\n\\t\\t\\t\\n\\t\\t\\t\\n\\t\\t</ul>\\n\\t\\t\\n\\t</div>\\n</div>\\n\\n\\t\\n<div id=\"p-vector-user-menu-userpage\" class=\"vector-menu mw-portlet emptyPortlet\"  >\\n\\t<div class=\"vector-menu-content\">\\n\\t\\t\\n\\t\\t<ul class=\"vector-menu-content-list\">\\n\\t\\t\\t\\n\\t\\t\\t\\n\\t\\t</ul>\\n\\t\\t\\n\\t</div>\\n</div>\\n\\n\\t<nav class=\"vector-appearance-landmark\" aria-label=\"Appearance\">\\n\\t\\t\\n<div id=\"vector-appearance-dropdown\" class=\"vector-dropdown \"  title=\"Change the appearance of the page&#039;s font size, width, and color\" >\\n\\t<input type=\"checkbox\" id=\"vector-appearance-dropdown-checkbox\" role=\"button\" aria-haspopup=\"true\" data-event-name=\"ui.dropdown-vector-appearance-dropdown\" class=\"vector-dropdown-checkbox \"  aria-label=\"Appearance\"  >\\n\\t<label id=\"vector-appearance-dropdown-label\" for=\"vector-appearance-dropdown-checkbox\" class=\"vector-dropdown-label cdx-button cdx-button--fake-button cdx-button--fake-button--enabled cdx-button--weight-quiet cdx-button--icon-only \" aria-hidden=\"true\"  ><span class=\"vector-icon mw-ui-icon-appearance mw-ui-icon-wikimedia-appearance\"></span>\\n\\n<span class=\"vector-dropdown-label-text\">Appearance</span>\\n\\t</label>\\n\\t<div class=\"vector-dropdown-content\">\\n\\n\\n\\t\\t\\t<div id=\"vector-appearance-unpinned-container\" class=\"vector-unpinned-container\">\\n\\t\\t\\t\\t\\n\\t\\t\\t</div>\\n\\t\\t\\n\\t</div>\\n</div>\\n\\n\\t</nav>\\n\\t\\n<div id=\"p-vector-user-menu-notifications\" class=\"vector-menu mw-portlet emptyPortlet\"  >\\n\\t<div class=\"vector-menu-content\">\\n\\t\\t\\n\\t\\t<ul class=\"vector-menu-content-list\">\\n\\t\\t\\t\\n\\t\\t\\t\\n\\t\\t</ul>\\n\\t\\t\\n\\t</div>\\n</div>\\n\\n\\t\\n<div id=\"p-vector-user-menu-overflow\" class=\"vector-menu mw-portlet\"  >\\n\\t<div class=\"vector-menu-content\">\\n\\t\\t\\n\\t\\t<ul class=\"vector-menu-content-list\">\\n\\t\\t\\t<li id=\"pt-sitesupport-2\" class=\"user-links-collapsible-item mw-list-item user-links-collapsible-item\"><a data-mw=\"interface\" href=\"https://donate.wikimedia.org/?wmf_source=donate&amp;wmf_medium=sidebar&amp;wmf_campaign=en.wikipedia.org&amp;uselang=en\" class=\"\"><span>Donate</span></a>\\n</li>\\n<li id=\"pt-createaccount-2\" class=\"user-links-collapsible-item mw-list-item user-links-collapsible-item\"><a data-mw=\"interface\" href=\"/w/index.php?title=Special:CreateAccount&amp;returnto=COVID-19+pandemic+in+Indiahttps%3A%2F%2Fen.wikipedia.org%2Fwiki%2FCOVID-19+pandemic+in+India\" title=\"You are encouraged to create an account and log in; however, it is not mandatory\" class=\"\"><span>Create account</span></a>\\n</li>\\n<li id=\"pt-login-2\" class=\"user-links-collapsible-item mw-list-item user-links-collapsible-item\"><a data-mw=\"interface\" href=\"/w/index.php?title=Special:UserLogin&amp;returnto=COVID-19+pandemic+in+Indiahttps%3A%2F%2Fen.wikipedia.org%2Fwiki%2FCOVID-19+pandemic+in+India\" title=\"You&#039;re encouraged to log in; however, it&#039;s not mandatory. [o]\" accesskey=\"o\" class=\"\"><span>Log in</span></a>\\n</li>\\n\\n\\t\\t\\t\\n\\t\\t</ul>\\n\\t\\t\\n\\t</div>\\n</div>\\n\\n\\t</div>\\n\\t\\n<div id=\"vector-user-links-dropdown\" class=\"vector-dropdown vector-user-menu vector-button-flush-right vector-user-menu-logged-out\"  title=\"Log in and more options\" >\\n\\t<input type=\"checkbox\" id=\"vector-user-links-dropdown-checkbox\" role=\"button\" aria-haspopup=\"true\" data-event-name=\"ui.dropdown-vector-user-links-dropdown\" class=\"vector-dropdown-checkbox \"  aria-label=\"Personal tools\"  >\\n\\t<label id=\"vector-user-links-dropdown-label\" for=\"vector-user-links-dropdown-checkbox\" class=\"vector-dropdown-label cdx-button cdx-button--fake-button cdx-button--fake-button--enabled cdx-button--weight-quiet cdx-button--icon-only \" aria-hidden=\"true\"  ><span class=\"vector-icon mw-ui-icon-ellipsis mw-ui-icon-wikimedia-ellipsis\"></span>\\n\\n<span class=\"vector-dropdown-label-text\">Personal tools</span>\\n\\t</label>\\n\\t<div class=\"vector-dropdown-content\">\\n\\n\\n\\t\\t\\n<div id=\"p-personal\" class=\"vector-menu mw-portlet mw-portlet-personal user-links-collapsible-item\"  title=\"User menu\" >\\n\\t<div class=\"vector-menu-content\">\\n\\t\\t\\n\\t\\t<ul class=\"vector-menu-content-list\">\\n\\t\\t\\t\\n\\t\\t\\t<li id=\"pt-sitesupport\" class=\"user-links-collapsible-item mw-list-item\"><a href=\"https://donate.wikimedia.org/?wmf_source=donate&amp;wmf_medium=sidebar&amp;wmf_campaign=en.wikipedia.org&amp;uselang=en\"><span>Donate</span></a></li><li id=\"pt-createaccount\" class=\"user-links-collapsible-item mw-list-item\"><a href=\"/w/index.php?title=Special:CreateAccount&amp;returnto=COVID-19+pandemic+in+Indiahttps%3A%2F%2Fen.wikipedia.org%2Fwiki%2FCOVID-19+pandemic+in+India\" title=\"You are encouraged to create an account and log in; however, it is not mandatory\"><span class=\"vector-icon mw-ui-icon-userAdd mw-ui-icon-wikimedia-userAdd\"></span> <span>Create account</span></a></li><li id=\"pt-login\" class=\"user-links-collapsible-item mw-list-item\"><a href=\"/w/index.php?title=Special:UserLogin&amp;returnto=COVID-19+pandemic+in+Indiahttps%3A%2F%2Fen.wikipedia.org%2Fwiki%2FCOVID-19+pandemic+in+India\" title=\"You&#039;re encouraged to log in; however, it&#039;s not mandatory. [o]\" accesskey=\"o\"><span class=\"vector-icon mw-ui-icon-logIn mw-ui-icon-wikimedia-logIn\"></span> <span>Log in</span></a></li>\\n\\t\\t</ul>\\n\\t\\t\\n\\t</div>\\n</div>\\n\\n<div id=\"p-user-menu-anon-editor\" class=\"vector-menu mw-portlet mw-portlet-user-menu-anon-editor\"  >\\n\\t<div class=\"vector-menu-heading\">\\n\\t\\tPages for logged out editors <a href=\"/wiki/Help:Introduction\" aria-label=\"Learn more about editing\"><span>learn more</span></a>\\n\\t</div>\\n\\t<div class=\"vector-menu-content\">\\n\\t\\t\\n\\t\\t<ul class=\"vector-menu-content-list\">\\n\\t\\t\\t\\n\\t\\t\\t<li id=\"pt-anoncontribs\" class=\"mw-list-item\"><a href=\"/wiki/Special:MyContributions\" title=\"A list of edits made from this IP address [y]\" accesskey=\"y\"><span>Contributions</span></a></li><li id=\"pt-anontalk\" class=\"mw-list-item\"><a href=\"/wiki/Special:MyTalk\" title=\"Discussion about edits from this IP address [n]\" accesskey=\"n\"><span>Talk</span></a></li>\\n\\t\\t</ul>\\n\\t\\t\\n\\t</div>\\n</div>\\n\\n\\t\\n\\t</div>\\n</div>\\n\\n</nav>\\n\\n\\t\\t</div>\\n\\t</header>\\n</div>\\n<div class=\"mw-page-container\">\\n\\t<div class=\"mw-page-container-inner\">\\n\\t\\t<div class=\"vector-sitenotice-container\">\\n\\t\\t\\t<div id=\"siteNotice\"><!-- CentralNotice --></div>\\n\\t\\t</div>\\n\\t\\t<div class=\"vector-column-start\">\\n\\t\\t\\t<div class=\"vector-main-menu-container\">\\n\\t\\t<div id=\"mw-navigation\">\\n\\t\\t\\t<nav id=\"mw-panel\" class=\"vector-main-menu-landmark\" aria-label=\"Site\">\\n\\t\\t\\t\\t<div id=\"vector-main-menu-pinned-container\" class=\"vector-pinned-container\">\\n\\t\\t\\t\\t\\n\\t\\t\\t\\t</div>\\n\\t\\t</nav>\\n\\t\\t</div>\\n\\t</div>\\n</div>\\n\\t\\t<div class=\"mw-content-container\">\\n\\t\\t\\t<main id=\"content\" class=\"mw-body\">\\n\\t\\t\\t\\t<header class=\"mw-body-header vector-page-titlebar\">\\n\\t\\t\\t\\t\\t<h1 id=\"firstHeading\" class=\"firstHeading mw-first-heading\"><span class=\"mw-page-title-main\">COVID-19 pandemic in Indiahttps://en.wikipedia.org/wiki/COVID-19 pandemic in India</span></h1>\\n\\t\\t\\t\\t\\t\\t\\t\\n<div id=\"p-lang-btn\" class=\"vector-dropdown mw-portlet mw-portlet-lang mw-portlet-lang-icon-only\"  >\\n\\t<input type=\"checkbox\" id=\"p-lang-btn-checkbox\" role=\"button\" aria-haspopup=\"true\" data-event-name=\"ui.dropdown-p-lang-btn\" class=\"vector-dropdown-checkbox mw-interlanguage-selector-empty\" aria-label=\"This article exist only in this language. Add the article for other languages\"   >\\n\\t<label id=\"p-lang-btn-label\" for=\"p-lang-btn-checkbox\" class=\"vector-dropdown-label cdx-button cdx-button--fake-button cdx-button--fake-button--enabled cdx-button--weight-quiet cdx-button--icon-only mw-portlet-lang-heading-empty\" aria-hidden=\"true\"  ><span class=\"vector-icon mw-ui-icon-language mw-ui-icon-wikimedia-language\"></span>\\n\\n<span class=\"vector-dropdown-label-text\">Add languages</span>\\n\\t</label>\\n\\t<div class=\"vector-dropdown-content\">\\n\\n\\t\\t<div class=\"mw-portlet-empty-language-selector-body\">\\n\\t\\t\\t\\t\\t\\tPage contents not supported in other languages.\\n\\t\\t\\t\\t\\t</div>\\n\\t\\t\\t\\n\\t</div>\\n</div>\\n</header>\\n\\t\\t\\t\\t<div class=\"vector-page-toolbar\">\\n\\t\\t\\t\\t\\t<div class=\"vector-page-toolbar-container\">\\n\\t\\t\\t\\t\\t\\t<div id=\"left-navigation\">\\n\\t\\t\\t\\t\\t\\t\\t<nav aria-label=\"Namespaces\">\\n\\t\\t\\t\\t\\t\\t\\t\\t\\n<div id=\"p-associated-pages\" class=\"vector-menu vector-menu-tabs mw-portlet mw-portlet-associated-pages\"  >\\n\\t<div class=\"vector-menu-content\">\\n\\t\\t\\n\\t\\t<ul class=\"vector-menu-content-list\">\\n\\t\\t\\t\\n\\t\\t\\t<li id=\"ca-nstab-main\" class=\"selected vector-tab-noicon mw-list-item\"><a href=\"/w/index.php?title=COVID-19_pandemic_in_Indiahttps://en.wikipedia.org/wiki/COVID-19_pandemic_in_India&amp;action=edit&amp;redlink=1\" title=\"View the content page (page does not exist) [c]\" accesskey=\"c\"><span>Article</span></a></li><li id=\"ca-talk\" class=\"new vector-tab-noicon mw-list-item\"><a href=\"/w/index.php?title=Talk:COVID-19_pandemic_in_Indiahttps://en.wikipedia.org/wiki/COVID-19_pandemic_in_India&amp;action=edit&amp;redlink=1\" rel=\"discussion\" class=\"new\" title=\"Discuss improvements to the content page (page does not exist) [t]\" accesskey=\"t\"><span>Talk</span></a></li>\\n\\t\\t</ul>\\n\\t\\t\\n\\t</div>\\n</div>\\n\\n\\t\\t\\t\\t\\t\\t\\t\\t\\n<div id=\"vector-variants-dropdown\" class=\"vector-dropdown emptyPortlet\"  >\\n\\t<input type=\"checkbox\" id=\"vector-variants-dropdown-checkbox\" role=\"button\" aria-haspopup=\"true\" data-event-name=\"ui.dropdown-vector-variants-dropdown\" class=\"vector-dropdown-checkbox \" aria-label=\"Change language variant\"   >\\n\\t<label id=\"vector-variants-dropdown-label\" for=\"vector-variants-dropdown-checkbox\" class=\"vector-dropdown-label cdx-button cdx-button--fake-button cdx-button--fake-button--enabled cdx-button--weight-quiet\" aria-hidden=\"true\"  ><span class=\"vector-dropdown-label-text\">English</span>\\n\\t</label>\\n\\t<div class=\"vector-dropdown-content\">\\n\\n\\n\\t\\t\\t\\t\\t\\n<div id=\"p-variants\" class=\"vector-menu mw-portlet mw-portlet-variants emptyPortlet\"  >\\n\\t<div class=\"vector-menu-content\">\\n\\t\\t\\n\\t\\t<ul class=\"vector-menu-content-list\">\\n\\t\\t\\t\\n\\t\\t\\t\\n\\t\\t</ul>\\n\\t\\t\\n\\t</div>\\n</div>\\n\\n\\t\\t\\t\\t\\n\\t</div>\\n</div>\\n\\n\\t\\t\\t\\t\\t\\t\\t</nav>\\n\\t\\t\\t\\t\\t\\t</div>\\n\\t\\t\\t\\t\\t\\t<div id=\"right-navigation\" class=\"vector-collapsible\">\\n\\t\\t\\t\\t\\t\\t\\t<nav aria-label=\"Views\">\\n\\t\\t\\t\\t\\t\\t\\t\\t\\n<div id=\"p-views\" class=\"vector-menu vector-menu-tabs mw-portlet mw-portlet-views emptyPortlet\"  >\\n\\t<div class=\"vector-menu-content\">\\n\\t\\t\\n\\t\\t<ul class=\"vector-menu-content-list\">\\n\\t\\t\\t\\n\\t\\t\\t\\n\\t\\t</ul>\\n\\t\\t\\n\\t</div>\\n</div>\\n\\n\\t\\t\\t\\t\\t\\t\\t</nav>\\n\\t\\t\\t\\t\\n\\t\\t\\t\\t\\t\\t\\t<nav class=\"vector-page-tools-landmark\" aria-label=\"Page tools\">\\n\\t\\t\\t\\t\\t\\t\\t\\t\\n<div id=\"vector-page-tools-dropdown\" class=\"vector-dropdown vector-page-tools-dropdown\"  >\\n\\t<input type=\"checkbox\" id=\"vector-page-tools-dropdown-checkbox\" role=\"button\" aria-haspopup=\"true\" data-event-name=\"ui.dropdown-vector-page-tools-dropdown\" class=\"vector-dropdown-checkbox \"  aria-label=\"Tools\"  >\\n\\t<label id=\"vector-page-tools-dropdown-label\" for=\"vector-page-tools-dropdown-checkbox\" class=\"vector-dropdown-label cdx-button cdx-button--fake-button cdx-button--fake-button--enabled cdx-button--weight-quiet\" aria-hidden=\"true\"  ><span class=\"vector-dropdown-label-text\">Tools</span>\\n\\t</label>\\n\\t<div class=\"vector-dropdown-content\">\\n\\n\\n\\t\\t\\t\\t\\t\\t\\t\\t\\t<div id=\"vector-page-tools-unpinned-container\" class=\"vector-unpinned-container\">\\n\\t\\t\\t\\t\\t\\t\\n<div id=\"vector-page-tools\" class=\"vector-page-tools vector-pinnable-element\">\\n\\t<div\\n\\tclass=\"vector-pinnable-header vector-page-tools-pinnable-header vector-pinnable-header-unpinned\"\\n\\tdata-feature-name=\"page-tools-pinned\"\\n\\tdata-pinnable-element-id=\"vector-page-tools\"\\n\\tdata-pinned-container-id=\"vector-page-tools-pinned-container\"\\n\\tdata-unpinned-container-id=\"vector-page-tools-unpinned-container\"\\n>\\n\\t<div class=\"vector-pinnable-header-label\">Tools</div>\\n\\t<button class=\"vector-pinnable-header-toggle-button vector-pinnable-header-pin-button\" data-event-name=\"pinnable-header.vector-page-tools.pin\">move to sidebar</button>\\n\\t<button class=\"vector-pinnable-header-toggle-button vector-pinnable-header-unpin-button\" data-event-name=\"pinnable-header.vector-page-tools.unpin\">hide</button>\\n</div>\\n\\n\\t\\n<div id=\"p-cactions\" class=\"vector-menu mw-portlet mw-portlet-cactions emptyPortlet\"  title=\"More options\" >\\n\\t<div class=\"vector-menu-heading\">\\n\\t\\tActions\\n\\t</div>\\n\\t<div class=\"vector-menu-content\">\\n\\t\\t\\n\\t\\t<ul class=\"vector-menu-content-list\">\\n\\t\\t\\t\\n\\t\\t\\t\\n\\t\\t</ul>\\n\\t\\t\\n\\t</div>\\n</div>\\n\\n<div id=\"p-tb\" class=\"vector-menu mw-portlet mw-portlet-tb\"  >\\n\\t<div class=\"vector-menu-heading\">\\n\\t\\tGeneral\\n\\t</div>\\n\\t<div class=\"vector-menu-content\">\\n\\t\\t\\n\\t\\t<ul class=\"vector-menu-content-list\">\\n\\t\\t\\t\\n\\t\\t\\t<li id=\"t-whatlinkshere\" class=\"mw-list-item\"><a href=\"/wiki/Special:WhatLinksHere/COVID-19_pandemic_in_Indiahttps://en.wikipedia.org/wiki/COVID-19_pandemic_in_India\" title=\"List of all English Wikipedia pages containing links to this page [j]\" accesskey=\"j\"><span>What links here</span></a></li><li id=\"t-upload\" class=\"mw-list-item\"><a href=\"/wiki/Wikipedia:File_Upload_Wizard\" title=\"Upload files [u]\" accesskey=\"u\"><span>Upload file</span></a></li><li id=\"t-specialpages\" class=\"mw-list-item\"><a href=\"/wiki/Special:SpecialPages\" title=\"A list of all special pages [q]\" accesskey=\"q\"><span>Special pages</span></a></li><li id=\"t-print\" class=\"mw-list-item\"><a href=\"javascript:print();\" rel=\"alternate\" title=\"Printable version of this page [p]\" accesskey=\"p\"><span>Printable version</span></a></li><li id=\"t-info\" class=\"mw-list-item\"><a href=\"/w/index.php?title=COVID-19_pandemic_in_Indiahttps://en.wikipedia.org/wiki/COVID-19_pandemic_in_India&amp;action=info\" title=\"More information about this page\"><span>Page information</span></a></li><li id=\"t-urlshortener\" class=\"mw-list-item\"><a href=\"/w/index.php?title=Special:UrlQ%C4%B1sald%C4%B1c%C4%B1s%C4%B1&amp;url=https%3A%2F%2Fen.wikipedia.org%2Fwiki%2FCOVID-19_pandemic_in_Indiahttps%3A%2F%2Fen.wikipedia.org%2Fwiki%2FCOVID-19_pandemic_in_India\"><span>Get shortened URL</span></a></li><li id=\"t-urlshortener-qrcode\" class=\"mw-list-item\"><a href=\"/w/index.php?title=Special:QrKodu&amp;url=https%3A%2F%2Fen.wikipedia.org%2Fwiki%2FCOVID-19_pandemic_in_Indiahttps%3A%2F%2Fen.wikipedia.org%2Fwiki%2FCOVID-19_pandemic_in_India\"><span>Download QR code</span></a></li>\\n\\t\\t</ul>\\n\\t\\t\\n\\t</div>\\n</div>\\n\\n<div id=\"p-wikibase-otherprojects\" class=\"vector-menu mw-portlet mw-portlet-wikibase-otherprojects emptyPortlet\"  >\\n\\t<div class=\"vector-menu-heading\">\\n\\t\\tIn other projects\\n\\t</div>\\n\\t<div class=\"vector-menu-content\">\\n\\t\\t\\n\\t\\t<ul class=\"vector-menu-content-list\">\\n\\t\\t\\t\\n\\t\\t\\t\\n\\t\\t</ul>\\n\\t\\t\\n\\t</div>\\n</div>\\n\\n</div>\\n\\n\\t\\t\\t\\t\\t\\t\\t\\t\\t</div>\\n\\t\\t\\t\\t\\n\\t</div>\\n</div>\\n\\n\\t\\t\\t\\t\\t\\t\\t</nav>\\n\\t\\t\\t\\t\\t\\t</div>\\n\\t\\t\\t\\t\\t</div>\\n\\t\\t\\t\\t</div>\\n\\t\\t\\t\\t<div class=\"vector-column-end\">\\n\\t\\t\\t\\t\\t<div class=\"vector-sticky-pinned-container\">\\n\\t\\t\\t\\t\\t\\t<nav class=\"vector-page-tools-landmark\" aria-label=\"Page tools\">\\n\\t\\t\\t\\t\\t\\t\\t<div id=\"vector-page-tools-pinned-container\" class=\"vector-pinned-container\">\\n\\t\\t\\t\\t\\n\\t\\t\\t\\t\\t\\t\\t</div>\\n\\t\\t</nav>\\n\\t\\t\\t\\t\\t\\t<nav class=\"vector-appearance-landmark\" aria-label=\"Appearance\">\\n\\t\\t\\t\\t\\t\\t\\t<div id=\"vector-appearance-pinned-container\" class=\"vector-pinned-container\">\\n\\t\\t\\t\\t<div id=\"vector-appearance\" class=\"vector-appearance vector-pinnable-element\">\\n\\t<div\\n\\tclass=\"vector-pinnable-header vector-appearance-pinnable-header vector-pinnable-header-pinned\"\\n\\tdata-feature-name=\"appearance-pinned\"\\n\\tdata-pinnable-element-id=\"vector-appearance\"\\n\\tdata-pinned-container-id=\"vector-appearance-pinned-container\"\\n\\tdata-unpinned-container-id=\"vector-appearance-unpinned-container\"\\n>\\n\\t<div class=\"vector-pinnable-header-label\">Appearance</div>\\n\\t<button class=\"vector-pinnable-header-toggle-button vector-pinnable-header-pin-button\" data-event-name=\"pinnable-header.vector-appearance.pin\">move to sidebar</button>\\n\\t<button class=\"vector-pinnable-header-toggle-button vector-pinnable-header-unpin-button\" data-event-name=\"pinnable-header.vector-appearance.unpin\">hide</button>\\n</div>\\n\\n\\n</div>\\n\\n\\t\\t\\t\\t\\t\\t\\t</div>\\n\\t\\t</nav>\\n\\t\\t\\t\\t\\t</div>\\n\\t\\t\\t\\t</div>\\n\\t\\t\\t\\t<div id=\"bodyContent\" class=\"vector-body\" aria-labelledby=\"firstHeading\" data-mw-ve-target-container>\\n\\t\\t\\t\\t\\t<div class=\"vector-body-before-content\">\\n\\t\\t\\t\\t\\t\\t\\t<div class=\"mw-indicators\">\\n\\t\\t</div>\\n\\n\\t\\t\\t\\t\\t\\t<div id=\"siteSub\" class=\"noprint\">From Wikipedia, the free encyclopedia</div>\\n\\t\\t\\t\\t\\t</div>\\n\\t\\t\\t\\t\\t<div id=\"contentSub\"><div id=\"mw-content-subtitle\"></div></div>\\n\\t\\t\\t\\t\\t\\n\\t\\t\\t\\t\\t\\n\\t\\t\\t\\t\\t<div id=\"mw-content-text\" class=\"mw-body-content\"><div class=\"noarticletext mw-content-ltr\" dir=\"ltr\" lang=\"en\">\\n<div class=\"mw-parser-output\">\\n <style data-mw-deduplicate=\"TemplateStyles:r1238441935\">.mw-parser-output .fmbox{clear:both;margin:0.2em 0;width:100%;border:1px solid #a2a9b1;background-color:var(--background-color-interactive-subtle,#f8f9fa);box-sizing:border-box;color:var(--color-base,#202122)}.mw-parser-output .fmbox-warning{border:1px solid #bb7070;background-color:#ffdbdb}.mw-parser-output .fmbox-editnotice{background-color:transparent}.mw-parser-output .fmbox .mbox-text{border:none;padding:0.25em 0.9em;width:100%}.mw-parser-output .fmbox .mbox-image{border:none;padding:2px 0 2px 0.9em;text-align:center}.mw-parser-output .fmbox .mbox-imageright{border:none;padding:2px 0.9em 2px 0;text-align:center}.mw-parser-output .fmbox .mbox-invalid-type{text-align:center}@media screen{html.skin-theme-clientpref-night .mw-parser-output .fmbox-warning{background-color:#300}}@media screen and (prefers-color-scheme:dark){html.skin-theme-clientpref-os .mw-parser-output .fmbox-warning{background-color:#300}}</style><table id=\"noarticletext\" class=\"plainlinks fmbox fmbox-system\" role=\"presentation\"><tbody><tr><td class=\"mbox-text\" style=\"padding: 0.6em 0.9em;\"><style data-mw-deduplicate=\"TemplateStyles:r1227763082\">.mw-parser-output .no-article-text-sister-projects{border:1px solid #a2a9b1;background-color:#f8f9fa;background-color:var(--background-color-neutral-subtle,#f8f9fa);line-height:1.5em;font-size:90%;padding:0.5em}.mw-parser-output .no-article-text-sister-projects li{display:flex;align-items:center}.mw-parser-output .no-article-text-sister-projects li>div:first-child{text-align:center;width:30px;height:30px;margin-right:0.3em;flex:0 0 30px}@media all and (min-width:40em){.mw-parser-output .no-article-text-sister-projects{margin:0.5em 0 0.5em 1em;clear:right;width:20em;float:right}.mw-parser-output .no-article-text-sister-projects .plainlist{margin-left:2em}.mw-parser-output .no-article-text-sister-projects li{height:2.5em}}</style><div class=\"no-article-text-sister-projects\" id=\"sisterproject\">Look for <b>COVID-19 pandemic in Indiahttps&#58;//en.wikipedia.org/wiki/COVID-19 pandemic in India</b> on one of Wikipedia\\'s <a href=\"/wiki/Special:SiteMatrix\" title=\"Special:SiteMatrix\">sister projects</a>:\\n<style data-mw-deduplicate=\"TemplateStyles:r1126788409\">.mw-parser-output .plainlist ol,.mw-parser-output .plainlist ul{line-height:inherit;list-style:none;margin:0;padding:0}.mw-parser-output .plainlist ol li,.mw-parser-output .plainlist ul li{margin-bottom:0}</style><div class=\"plainlist\">\\n<ul>\\n<li>\\n  <div><span typeof=\"mw:File\"><span><img alt=\"\" src=\"//upload.wikimedia.org/wikipedia/en/thumb/0/06/Wiktionary-logo-v2.svg/30px-Wiktionary-logo-v2.svg.png\" decoding=\"async\" width=\"30\" height=\"30\" class=\"mw-file-element\" srcset=\"//upload.wikimedia.org/wikipedia/en/thumb/0/06/Wiktionary-logo-v2.svg/45px-Wiktionary-logo-v2.svg.png 1.5x, //upload.wikimedia.org/wikipedia/en/thumb/0/06/Wiktionary-logo-v2.svg/60px-Wiktionary-logo-v2.svg.png 2x\" data-file-width=\"391\" data-file-height=\"391\" /></span></span></div>\\n  <div><a href=\"https://en.wiktionary.org/wiki/Special:Search/COVID-19_pandemic_in_Indiahttps://en.wikipedia.org/wiki/COVID-19_pandemic_in_India\" class=\"extiw\" title=\"wiktionary:Special:Search/COVID-19 pandemic in Indiahttps://en.wikipedia.org/wiki/COVID-19 pandemic in India\">Wiktionary</a> (dictionary)</div>\\n</li>\\n<li>\\n  <div><span typeof=\"mw:File\"><span><img alt=\"\" src=\"//upload.wikimedia.org/wikipedia/commons/thumb/f/fa/Wikibooks-logo.svg/30px-Wikibooks-logo.svg.png\" decoding=\"async\" width=\"30\" height=\"30\" class=\"mw-file-element\" srcset=\"//upload.wikimedia.org/wikipedia/commons/thumb/f/fa/Wikibooks-logo.svg/45px-Wikibooks-logo.svg.png 1.5x, //upload.wikimedia.org/wikipedia/commons/thumb/f/fa/Wikibooks-logo.svg/60px-Wikibooks-logo.svg.png 2x\" data-file-width=\"300\" data-file-height=\"300\" /></span></span></div>\\n  <div><a href=\"https://en.wikibooks.org/wiki/Special:Search/COVID-19_pandemic_in_Indiahttps://en.wikipedia.org/wiki/COVID-19_pandemic_in_India\" class=\"extiw\" title=\"wikibooks:Special:Search/COVID-19 pandemic in Indiahttps://en.wikipedia.org/wiki/COVID-19 pandemic in India\">Wikibooks</a> (textbooks)</div>\\n</li>\\n<li>\\n  <div><span typeof=\"mw:File\"><span><img alt=\"\" src=\"//upload.wikimedia.org/wikipedia/commons/thumb/f/fa/Wikiquote-logo.svg/25px-Wikiquote-logo.svg.png\" decoding=\"async\" width=\"25\" height=\"30\" class=\"mw-file-element\" srcset=\"//upload.wikimedia.org/wikipedia/commons/thumb/f/fa/Wikiquote-logo.svg/38px-Wikiquote-logo.svg.png 1.5x, //upload.wikimedia.org/wikipedia/commons/thumb/f/fa/Wikiquote-logo.svg/51px-Wikiquote-logo.svg.png 2x\" data-file-width=\"300\" data-file-height=\"355\" /></span></span></div>\\n  <div><a href=\"https://en.wikiquote.org/wiki/Special:Search/COVID-19_pandemic_in_Indiahttps://en.wikipedia.org/wiki/COVID-19_pandemic_in_India\" class=\"extiw\" title=\"wikiquote:Special:Search/COVID-19 pandemic in Indiahttps://en.wikipedia.org/wiki/COVID-19 pandemic in India\">Wikiquote</a> (quotations)</div>\\n</li>\\n<li>\\n  <div><span typeof=\"mw:File\"><span><img alt=\"\" src=\"//upload.wikimedia.org/wikipedia/commons/thumb/4/4c/Wikisource-logo.svg/29px-Wikisource-logo.svg.png\" decoding=\"async\" width=\"29\" height=\"30\" class=\"mw-file-element\" srcset=\"//upload.wikimedia.org/wikipedia/commons/thumb/4/4c/Wikisource-logo.svg/43px-Wikisource-logo.svg.png 1.5x, //upload.wikimedia.org/wikipedia/commons/thumb/4/4c/Wikisource-logo.svg/57px-Wikisource-logo.svg.png 2x\" data-file-width=\"410\" data-file-height=\"430\" /></span></span></div>\\n  <div><a href=\"https://en.wikisource.org/wiki/Special:Search/COVID-19_pandemic_in_Indiahttps://en.wikipedia.org/wiki/COVID-19_pandemic_in_India\" class=\"extiw\" title=\"wikisource:Special:Search/COVID-19 pandemic in Indiahttps://en.wikipedia.org/wiki/COVID-19 pandemic in India\">Wikisource</a> (library)</div>\\n</li>\\n<li>\\n  <div><span typeof=\"mw:File\"><span><img alt=\"\" src=\"//upload.wikimedia.org/wikipedia/commons/thumb/0/0b/Wikiversity_logo_2017.svg/30px-Wikiversity_logo_2017.svg.png\" decoding=\"async\" width=\"30\" height=\"25\" class=\"mw-file-element\" srcset=\"//upload.wikimedia.org/wikipedia/commons/thumb/0/0b/Wikiversity_logo_2017.svg/45px-Wikiversity_logo_2017.svg.png 1.5x, //upload.wikimedia.org/wikipedia/commons/thumb/0/0b/Wikiversity_logo_2017.svg/60px-Wikiversity_logo_2017.svg.png 2x\" data-file-width=\"626\" data-file-height=\"512\" /></span></span></div>\\n  <div><a href=\"https://en.wikiversity.org/wiki/Special:Search/COVID-19_pandemic_in_Indiahttps://en.wikipedia.org/wiki/COVID-19_pandemic_in_India\" class=\"extiw\" title=\"wikiversity:Special:Search/COVID-19 pandemic in Indiahttps://en.wikipedia.org/wiki/COVID-19 pandemic in India\">Wikiversity</a> (learning resources)</div>\\n</li>\\n<li>\\n  <div><span typeof=\"mw:File\"><span><img alt=\"\" src=\"//upload.wikimedia.org/wikipedia/en/thumb/4/4a/Commons-logo.svg/22px-Commons-logo.svg.png\" decoding=\"async\" width=\"22\" height=\"30\" class=\"mw-file-element\" srcset=\"//upload.wikimedia.org/wikipedia/en/thumb/4/4a/Commons-logo.svg/33px-Commons-logo.svg.png 1.5x, //upload.wikimedia.org/wikipedia/en/thumb/4/4a/Commons-logo.svg/45px-Commons-logo.svg.png 2x\" data-file-width=\"1024\" data-file-height=\"1376\" /></span></span></div>\\n  <div><a href=\"https://commons.wikimedia.org/wiki/Special:Search/COVID-19_pandemic_in_Indiahttps://en.wikipedia.org/wiki/COVID-19_pandemic_in_India\" class=\"extiw\" title=\"commons:Special:Search/COVID-19 pandemic in Indiahttps://en.wikipedia.org/wiki/COVID-19 pandemic in India\">Commons</a> (media)</div>\\n</li>\\n<li>\\n  <div><span typeof=\"mw:File\"><span><img alt=\"\" src=\"//upload.wikimedia.org/wikipedia/commons/thumb/d/dd/Wikivoyage-Logo-v3-icon.svg/30px-Wikivoyage-Logo-v3-icon.svg.png\" decoding=\"async\" width=\"30\" height=\"30\" class=\"mw-file-element\" srcset=\"//upload.wikimedia.org/wikipedia/commons/thumb/d/dd/Wikivoyage-Logo-v3-icon.svg/45px-Wikivoyage-Logo-v3-icon.svg.png 1.5x, //upload.wikimedia.org/wikipedia/commons/thumb/d/dd/Wikivoyage-Logo-v3-icon.svg/60px-Wikivoyage-Logo-v3-icon.svg.png 2x\" data-file-width=\"193\" data-file-height=\"193\" /></span></span></div>\\n  <div><a href=\"https://en.wikivoyage.org/wiki/Special:Search/COVID-19_pandemic_in_Indiahttps://en.wikipedia.org/wiki/COVID-19_pandemic_in_India\" class=\"extiw\" title=\"wikivoyage:Special:Search/COVID-19 pandemic in Indiahttps://en.wikipedia.org/wiki/COVID-19 pandemic in India\">Wikivoyage</a> (travel guide)</div>\\n</li>\\n<li>\\n  <div><span typeof=\"mw:File\"><span><img alt=\"\" src=\"//upload.wikimedia.org/wikipedia/commons/thumb/2/24/Wikinews-logo.svg/30px-Wikinews-logo.svg.png\" decoding=\"async\" width=\"30\" height=\"16\" class=\"mw-file-element\" srcset=\"//upload.wikimedia.org/wikipedia/commons/thumb/2/24/Wikinews-logo.svg/45px-Wikinews-logo.svg.png 1.5x, //upload.wikimedia.org/wikipedia/commons/thumb/2/24/Wikinews-logo.svg/60px-Wikinews-logo.svg.png 2x\" data-file-width=\"759\" data-file-height=\"415\" /></span></span></div>\\n  <div><a href=\"https://en.wikinews.org/wiki/Special:Search/COVID-19_pandemic_in_Indiahttps://en.wikipedia.org/wiki/COVID-19_pandemic_in_India\" class=\"extiw\" title=\"wikinews:Special:Search/COVID-19 pandemic in Indiahttps://en.wikipedia.org/wiki/COVID-19 pandemic in India\">Wikinews</a> (news source)</div>\\n</li>\\n<li>\\n  <div><span typeof=\"mw:File\"><span><img alt=\"\" src=\"//upload.wikimedia.org/wikipedia/commons/thumb/f/ff/Wikidata-logo.svg/30px-Wikidata-logo.svg.png\" decoding=\"async\" width=\"30\" height=\"17\" class=\"mw-file-element\" srcset=\"//upload.wikimedia.org/wikipedia/commons/thumb/f/ff/Wikidata-logo.svg/45px-Wikidata-logo.svg.png 1.5x, //upload.wikimedia.org/wikipedia/commons/thumb/f/ff/Wikidata-logo.svg/60px-Wikidata-logo.svg.png 2x\" data-file-width=\"1050\" data-file-height=\"590\" /></span></span></div>\\n  <div><a href=\"https://www.wikidata.org/wiki/Special:Search/COVID-19_pandemic_in_Indiahttps://en.wikipedia.org/wiki/COVID-19_pandemic_in_India\" class=\"extiw\" title=\"wikidata:Special:Search/COVID-19 pandemic in Indiahttps://en.wikipedia.org/wiki/COVID-19 pandemic in India\">Wikidata</a> (linked database)</div>\\n</li>\\n<li>\\n  <div><span typeof=\"mw:File\"><span><img alt=\"\" src=\"//upload.wikimedia.org/wikipedia/commons/thumb/d/df/Wikispecies-logo.svg/26px-Wikispecies-logo.svg.png\" decoding=\"async\" width=\"26\" height=\"30\" class=\"mw-file-element\" srcset=\"//upload.wikimedia.org/wikipedia/commons/thumb/d/df/Wikispecies-logo.svg/38px-Wikispecies-logo.svg.png 1.5x, //upload.wikimedia.org/wikipedia/commons/thumb/d/df/Wikispecies-logo.svg/51px-Wikispecies-logo.svg.png 2x\" data-file-width=\"941\" data-file-height=\"1103\" /></span></span></div>\\n  <div><a href=\"https://species.wikimedia.org/wiki/Special:Search/COVID-19_pandemic_in_Indiahttps://en.wikipedia.org/wiki/COVID-19_pandemic_in_India\" class=\"extiw\" title=\"wikispecies:Special:Search/COVID-19 pandemic in Indiahttps://en.wikipedia.org/wiki/COVID-19 pandemic in India\">Wikispecies</a> (species directory)</div>\\n</li>\\n</ul>\\n</div>\\n</div><b>Wikipedia does not have an article with this exact name.</b> Please <span class=\"plainlinks\"><a class=\"external text\" href=\"https://en.wikipedia.org/w/index.php?search=COVID-19+pandemic+in+Indiahttps%3A%2F%2Fen.wikipedia.org%2Fwiki%2FCOVID-19+pandemic+in+India&amp;title=Special%3ASearch&amp;fulltext=1\">search for <i>COVID-19 pandemic in Indiahttps&#58;//en.wikipedia.org/wiki/COVID-19 pandemic in India</i> in Wikipedia</a></span> to check for alternative titles or spellings.\\n<ul><li>This page is template-protected from creation, so only <a href=\"/wiki/Wikipedia:Template_editor\" title=\"Wikipedia:Template editor\">template editors</a> can create it.</li>\\n<li><span class=\"plainlinks\"><a class=\"external text\" href=\"https://en.wikipedia.org/w/index.php?search=COVID-19+pandemic+in+Indiahttps%3A%2F%2Fen.wikipedia.org%2Fwiki%2FCOVID-19+pandemic+in+India&amp;title=Special%3ASearch&amp;fulltext=1&amp;ns0=1\">Search for \"<i>COVID-19 pandemic in Indiahttps&#58;//en.wikipedia.org/wiki/COVID-19 pandemic in India</i>\"</a></span> in existing articles.</li>\\n<li><a href=\"/wiki/Special:WhatLinksHere/COVID-19_pandemic_in_Indiahttps://en.wikipedia.org/wiki/COVID-19_pandemic_in_India\" title=\"Special:WhatLinksHere/COVID-19 pandemic in Indiahttps://en.wikipedia.org/wiki/COVID-19 pandemic in India\">Look for pages within Wikipedia that link to this title</a>.</li></ul>\\n<div id=\"noarticletext_technical\">\\n<hr />\\n<p><b>Other reasons this message may be displayed:</b>\\n</p>\\n<ul><li>If a page was recently created here, it may not be visible yet because of a delay in updating the database; wait a few minutes or <a href=\"/wiki/Special:Purge/COVID-19_pandemic_in_Indiahttps://en.wikipedia.org/wiki/COVID-19_pandemic_in_India\" title=\"Special:Purge/COVID-19 pandemic in Indiahttps://en.wikipedia.org/wiki/COVID-19 pandemic in India\">try the purge function</a>.</li>\\n<li>Titles on Wikipedia are <b><a href=\"/wiki/Case_sensitivity\" title=\"Case sensitivity\">case sensitive</a></b> except for the first character; please <span class=\"plainlinks\"><a class=\"external text\" href=\"https://en.wikipedia.org/w/index.php?search=COVID-19+pandemic+in+Indiahttps%3A%2F%2Fen.wikipedia.org%2Fwiki%2FCOVID-19+pandemic+in+India&amp;title=Special%3ASearch&amp;fulltext=1\">check alternative capitalizations</a></span> and consider adding a <a href=\"/wiki/Wikipedia:Redirect\" title=\"Wikipedia:Redirect\">redirect</a> here to the correct title.</li>\\n<li>If the page has been deleted, <a class=\"external text\" href=\"https://en.wikipedia.org/w/index.php?title=Special:Log/delete&amp;page=COVID-19_pandemic_in_Indiahttps://en.wikipedia.org/wiki/COVID-19_pandemic_in_India\">check the <b>deletion log</b></a>, and see <a href=\"/wiki/Wikipedia:Why_was_the_page_I_created_deleted%3F\" title=\"Wikipedia:Why was the page I created deleted?\">Why was the page I created deleted?</a></li></ul>\\n</div></td></tr></tbody></table>\\n</div>\\n</div><!--esi <esi:include src=\"/esitest-fa8a495983347898/content\" /> --><noscript><img src=\"https://login.wikimedia.org/wiki/Special:CentralAutoLogin/start?useformat=desktop&amp;type=1x1&amp;usesul3=0\" alt=\"\" width=\"1\" height=\"1\" style=\"border: none; position: absolute;\"></noscript>\\n<div class=\"printfooter\" data-nosnippet=\"\">Retrieved from \"<a dir=\"ltr\" href=\"https://en.wikipedia.org/wiki/COVID-19_pandemic_in_Indiahttps://en.wikipedia.org/wiki/COVID-19_pandemic_in_India\">https://en.wikipedia.org/wiki/COVID-19_pandemic_in_Indiahttps://en.wikipedia.org/wiki/COVID-19_pandemic_in_India</a>\"</div></div>\\n\\t\\t\\t\\t\\t<div id=\"catlinks\" class=\"catlinks catlinks-allhidden\" data-mw=\"interface\"></div>\\n\\t\\t\\t\\t</div>\\n\\t\\t\\t</main>\\n\\t\\t\\t\\n\\t\\t</div>\\n\\t\\t<div class=\"mw-footer-container\">\\n\\t\\t\\t\\n<footer id=\"footer\" class=\"mw-footer\" >\\n\\t<ul id=\"footer-info\">\\n</ul>\\n\\n\\t<ul id=\"footer-places\">\\n\\t<li id=\"footer-places-privacy\"><a href=\"https://foundation.wikimedia.org/wiki/Special:MyLanguage/Policy:Privacy_policy\">Privacy policy</a></li>\\n\\t<li id=\"footer-places-about\"><a href=\"/wiki/Wikipedia:About\">About Wikipedia</a></li>\\n\\t<li id=\"footer-places-disclaimers\"><a href=\"/wiki/Wikipedia:General_disclaimer\">Disclaimers</a></li>\\n\\t<li id=\"footer-places-contact\"><a href=\"//en.wikipedia.org/wiki/Wikipedia:Contact_us\">Contact Wikipedia</a></li>\\n\\t<li id=\"footer-places-wm-codeofconduct\"><a href=\"https://foundation.wikimedia.org/wiki/Special:MyLanguage/Policy:Universal_Code_of_Conduct\">Code of Conduct</a></li>\\n\\t<li id=\"footer-places-developers\"><a href=\"https://developer.wikimedia.org\">Developers</a></li>\\n\\t<li id=\"footer-places-statslink\"><a href=\"https://stats.wikimedia.org/#/en.wikipedia.org\">Statistics</a></li>\\n\\t<li id=\"footer-places-cookiestatement\"><a href=\"https://foundation.wikimedia.org/wiki/Special:MyLanguage/Policy:Cookie_statement\">Cookie statement</a></li>\\n\\t<li id=\"footer-places-mobileview\"><a href=\"//en.m.wikipedia.org/w/index.php?title=COVID-19_pandemic_in_Indiahttps://en.wikipedia.org/wiki/COVID-19_pandemic_in_India&amp;mobileaction=toggle_view_mobile\" class=\"noprint stopMobileRedirectToggle\">Mobile view</a></li>\\n</ul>\\n\\n\\t<ul id=\"footer-icons\" class=\"noprint\">\\n\\t<li id=\"footer-copyrightico\"><a href=\"https://wikimediafoundation.org/\" class=\"cdx-button cdx-button--fake-button cdx-button--size-large cdx-button--fake-button--enabled\"><img src=\"/static/images/footer/wikimedia-button.svg\" width=\"84\" height=\"29\" alt=\"Wikimedia Foundation\" loading=\"lazy\"></a></li>\\n\\t<li id=\"footer-poweredbyico\"><a href=\"https://www.mediawiki.org/\" class=\"cdx-button cdx-button--fake-button cdx-button--size-large cdx-button--fake-button--enabled\"><img src=\"/w/resources/assets/poweredby_mediawiki.svg\" alt=\"Powered by MediaWiki\" width=\"88\" height=\"31\" loading=\"lazy\"></a></li>\\n</ul>\\n\\n</footer>\\n\\n\\t\\t</div>\\n\\t</div> \\n</div> \\n<div class=\"vector-settings\" id=\"p-dock-bottom\">\\n\\t<ul></ul>\\n</div><script>(RLQ=window.RLQ||[]).push(function(){mw.config.set({\"wgHostname\":\"mw-web.codfw.main-59b954b7fb-62sb5\",\"wgBackendResponseTime\":234,\"wgPageParseReport\":{\"limitreport\":{\"cputime\":\"0.125\",\"walltime\":\"0.151\",\"ppvisitednodes\":{\"value\":419,\"limit\":1000000},\"postexpandincludesize\":{\"value\":30338,\"limit\":2097152},\"templateargumentsize\":{\"value\":1193,\"limit\":2097152},\"expansiondepth\":{\"value\":14,\"limit\":100},\"expensivefunctioncount\":{\"value\":7,\"limit\":500},\"unstrip-depth\":{\"value\":0,\"limit\":20},\"unstrip-size\":{\"value\":2174,\"limit\":5000000},\"entityaccesscount\":{\"value\":0,\"limit\":400},\"timingprofile\":[\"100.00%  126.373      1 -total\",\"100.00%  126.373      1 Template:No_article_text\",\" 76.06%   96.122      1 Template:Fmbox\",\" 20.64%   26.082      1 Template:New_page_DYM\",\" 14.90%   18.828      1 Template:No_article_text/sister_projects\",\"  3.36%    4.247      3 Template:Plain_link\",\"  3.14%    3.967      1 Template:Str_rightc\",\"  3.00%    3.797      1 Template:Plainlist\",\"  0.74%    0.936      1 Template:Endplainlist\"]},\"scribunto\":{\"limitreport-timeusage\":{\"value\":\"0.071\",\"limit\":\"10.000\"},\"limitreport-memusage\":{\"value\":1456243,\"limit\":52428800}},\"cachereport\":{\"origin\":\"mw-web.codfw.main-59b954b7fb-62sb5\",\"timestamp\":\"20241206101906\",\"ttl\":2592000,\"transientcontent\":false}}});});</script>\\n</body>\\n</html>'"
            ]
          },
          "metadata": {},
          "execution_count": 3
        }
      ]
    },
    {
      "cell_type": "code",
      "source": [
        "page.headers\n"
      ],
      "metadata": {
        "colab": {
          "base_uri": "https://localhost:8080/"
        },
        "id": "HxCqlw6I6bWv",
        "outputId": "5654f4a5-788f-4a73-bdb3-1921c0c3e33a"
      },
      "execution_count": 4,
      "outputs": [
        {
          "output_type": "execute_result",
          "data": {
            "text/plain": [
              "{'date': 'Fri, 06 Dec 2024 10:19:06 GMT', 'server': 'mw-web.codfw.main-59b954b7fb-62sb5', 'x-content-type-options': 'nosniff', 'content-language': 'en', 'accept-ch': '', 'vary': 'Accept-Encoding,Cookie,Authorization', 'content-type': 'text/html; charset=UTF-8', 'content-encoding': 'gzip', 'age': '1', 'x-cache': 'cp5019 miss, cp5019 miss', 'x-cache-status': 'miss', 'server-timing': 'cache;desc=\"miss\", host;desc=\"cp5019\"', 'strict-transport-security': 'max-age=106384710; includeSubDomains; preload', 'report-to': '{ \"group\": \"wm_nel\", \"max_age\": 604800, \"endpoints\": [{ \"url\": \"https://intake-logging.wikimedia.org/v1/events?stream=w3c.reportingapi.network_error&schema_uri=/w3c/reportingapi/network_error/1.0.0\" }] }', 'nel': '{ \"report_to\": \"wm_nel\", \"max_age\": 604800, \"failure_fraction\": 0.05, \"success_fraction\": 0.0}', 'set-cookie': 'WMF-Last-Access=06-Dec-2024;Path=/;HttpOnly;secure;Expires=Tue, 07 Jan 2025 00:00:00 GMT, WMF-Last-Access-Global=06-Dec-2024;Path=/;Domain=.wikipedia.org;HttpOnly;secure;Expires=Tue, 07 Jan 2025 00:00:00 GMT, GeoIP=TW:TPE:Taipei:25.06:121.51:v4; Path=/; secure; Domain=.wikipedia.org, NetworkProbeLimit=0.001;Path=/;Secure;SameSite=Lax;Max-Age=3600', 'x-client-ip': '35.234.15.188', 'cache-control': 'private, s-maxage=0, max-age=0, must-revalidate, no-transform', 'transfer-encoding': 'chunked'}"
            ]
          },
          "metadata": {},
          "execution_count": 4
        }
      ]
    },
    {
      "cell_type": "code",
      "source": [
        "from bs4 import BeautifulSoup"
      ],
      "metadata": {
        "id": "P9biCaQP6jde"
      },
      "execution_count": 5,
      "outputs": []
    },
    {
      "cell_type": "code",
      "source": [
        "soup=BeautifulSoup(page.content,'html.parser')"
      ],
      "metadata": {
        "id": "0ZO2GdRL7Liu"
      },
      "execution_count": 6,
      "outputs": []
    },
    {
      "cell_type": "code",
      "source": [
        "soup.title"
      ],
      "metadata": {
        "colab": {
          "base_uri": "https://localhost:8080/"
        },
        "id": "IqaE7Jy67hK4",
        "outputId": "adf28a19-8328-4618-94e6-5c28f9410427"
      },
      "execution_count": 7,
      "outputs": [
        {
          "output_type": "execute_result",
          "data": {
            "text/plain": [
              "<title>COVID-19 pandemic in Indiahttps://en.wikipedia.org/wiki/COVID-19 pandemic in India - Wikipedia</title>"
            ]
          },
          "metadata": {},
          "execution_count": 7
        }
      ]
    },
    {
      "cell_type": "code",
      "source": [
        "soup.p"
      ],
      "metadata": {
        "colab": {
          "base_uri": "https://localhost:8080/"
        },
        "id": "UAoh_zv3-rai",
        "outputId": "f8f4fc12-b5a2-4796-dec5-1e9a651e7358"
      },
      "execution_count": 8,
      "outputs": [
        {
          "output_type": "execute_result",
          "data": {
            "text/plain": [
              "<p><b>Other reasons this message may be displayed:</b>\n",
              "</p>"
            ]
          },
          "metadata": {},
          "execution_count": 8
        }
      ]
    },
    {
      "cell_type": "code",
      "source": [
        "soup.find_all('p')"
      ],
      "metadata": {
        "colab": {
          "base_uri": "https://localhost:8080/"
        },
        "id": "3JhOuRuL-uuY",
        "outputId": "f2a36c44-ece2-414b-8e16-97f142f42562"
      },
      "execution_count": 9,
      "outputs": [
        {
          "output_type": "execute_result",
          "data": {
            "text/plain": [
              "[<p><b>Other reasons this message may be displayed:</b>\n",
              " </p>]"
            ]
          },
          "metadata": {},
          "execution_count": 9
        }
      ]
    },
    {
      "cell_type": "code",
      "source": [
        "for para in soup.find_all('p'):\n",
        "  print(para.text);"
      ],
      "metadata": {
        "colab": {
          "base_uri": "https://localhost:8080/"
        },
        "id": "nvXFh9W7-zCp",
        "outputId": "0558322f-a0fa-4bb8-9378-04845276ee37"
      },
      "execution_count": 10,
      "outputs": [
        {
          "output_type": "stream",
          "name": "stdout",
          "text": [
            "Other reasons this message may be displayed:\n",
            "\n"
          ]
        }
      ]
    },
    {
      "cell_type": "code",
      "source": [
        "for link in soup.find_all('a'):\n",
        "  print(link.get('href'))"
      ],
      "metadata": {
        "colab": {
          "base_uri": "https://localhost:8080/"
        },
        "id": "isJnPvEt_LHF",
        "outputId": "779f3162-b72d-4173-a3ec-744b9893bbda"
      },
      "execution_count": 11,
      "outputs": [
        {
          "output_type": "stream",
          "name": "stdout",
          "text": [
            "#bodyContent\n",
            "/wiki/Main_Page\n",
            "/wiki/Wikipedia:Contents\n",
            "/wiki/Portal:Current_events\n",
            "/wiki/Special:Random\n",
            "/wiki/Wikipedia:About\n",
            "//en.wikipedia.org/wiki/Wikipedia:Contact_us\n",
            "/wiki/Help:Contents\n",
            "/wiki/Help:Introduction\n",
            "/wiki/Wikipedia:Community_portal\n",
            "/wiki/Special:RecentChanges\n",
            "/wiki/Wikipedia:File_upload_wizard\n",
            "/wiki/Main_Page\n",
            "/wiki/Special:Search\n",
            "https://donate.wikimedia.org/?wmf_source=donate&wmf_medium=sidebar&wmf_campaign=en.wikipedia.org&uselang=en\n",
            "/w/index.php?title=Special:CreateAccount&returnto=COVID-19+pandemic+in+Indiahttps%3A%2F%2Fen.wikipedia.org%2Fwiki%2FCOVID-19+pandemic+in+India\n",
            "/w/index.php?title=Special:UserLogin&returnto=COVID-19+pandemic+in+Indiahttps%3A%2F%2Fen.wikipedia.org%2Fwiki%2FCOVID-19+pandemic+in+India\n",
            "https://donate.wikimedia.org/?wmf_source=donate&wmf_medium=sidebar&wmf_campaign=en.wikipedia.org&uselang=en\n",
            "/w/index.php?title=Special:CreateAccount&returnto=COVID-19+pandemic+in+Indiahttps%3A%2F%2Fen.wikipedia.org%2Fwiki%2FCOVID-19+pandemic+in+India\n",
            "/w/index.php?title=Special:UserLogin&returnto=COVID-19+pandemic+in+Indiahttps%3A%2F%2Fen.wikipedia.org%2Fwiki%2FCOVID-19+pandemic+in+India\n",
            "/wiki/Help:Introduction\n",
            "/wiki/Special:MyContributions\n",
            "/wiki/Special:MyTalk\n",
            "/w/index.php?title=COVID-19_pandemic_in_Indiahttps://en.wikipedia.org/wiki/COVID-19_pandemic_in_India&action=edit&redlink=1\n",
            "/w/index.php?title=Talk:COVID-19_pandemic_in_Indiahttps://en.wikipedia.org/wiki/COVID-19_pandemic_in_India&action=edit&redlink=1\n",
            "/wiki/Special:WhatLinksHere/COVID-19_pandemic_in_Indiahttps://en.wikipedia.org/wiki/COVID-19_pandemic_in_India\n",
            "/wiki/Wikipedia:File_Upload_Wizard\n",
            "/wiki/Special:SpecialPages\n",
            "javascript:print();\n",
            "/w/index.php?title=COVID-19_pandemic_in_Indiahttps://en.wikipedia.org/wiki/COVID-19_pandemic_in_India&action=info\n",
            "/w/index.php?title=Special:UrlQ%C4%B1sald%C4%B1c%C4%B1s%C4%B1&url=https%3A%2F%2Fen.wikipedia.org%2Fwiki%2FCOVID-19_pandemic_in_Indiahttps%3A%2F%2Fen.wikipedia.org%2Fwiki%2FCOVID-19_pandemic_in_India\n",
            "/w/index.php?title=Special:QrKodu&url=https%3A%2F%2Fen.wikipedia.org%2Fwiki%2FCOVID-19_pandemic_in_Indiahttps%3A%2F%2Fen.wikipedia.org%2Fwiki%2FCOVID-19_pandemic_in_India\n",
            "/wiki/Special:SiteMatrix\n",
            "https://en.wiktionary.org/wiki/Special:Search/COVID-19_pandemic_in_Indiahttps://en.wikipedia.org/wiki/COVID-19_pandemic_in_India\n",
            "https://en.wikibooks.org/wiki/Special:Search/COVID-19_pandemic_in_Indiahttps://en.wikipedia.org/wiki/COVID-19_pandemic_in_India\n",
            "https://en.wikiquote.org/wiki/Special:Search/COVID-19_pandemic_in_Indiahttps://en.wikipedia.org/wiki/COVID-19_pandemic_in_India\n",
            "https://en.wikisource.org/wiki/Special:Search/COVID-19_pandemic_in_Indiahttps://en.wikipedia.org/wiki/COVID-19_pandemic_in_India\n",
            "https://en.wikiversity.org/wiki/Special:Search/COVID-19_pandemic_in_Indiahttps://en.wikipedia.org/wiki/COVID-19_pandemic_in_India\n",
            "https://commons.wikimedia.org/wiki/Special:Search/COVID-19_pandemic_in_Indiahttps://en.wikipedia.org/wiki/COVID-19_pandemic_in_India\n",
            "https://en.wikivoyage.org/wiki/Special:Search/COVID-19_pandemic_in_Indiahttps://en.wikipedia.org/wiki/COVID-19_pandemic_in_India\n",
            "https://en.wikinews.org/wiki/Special:Search/COVID-19_pandemic_in_Indiahttps://en.wikipedia.org/wiki/COVID-19_pandemic_in_India\n",
            "https://www.wikidata.org/wiki/Special:Search/COVID-19_pandemic_in_Indiahttps://en.wikipedia.org/wiki/COVID-19_pandemic_in_India\n",
            "https://species.wikimedia.org/wiki/Special:Search/COVID-19_pandemic_in_Indiahttps://en.wikipedia.org/wiki/COVID-19_pandemic_in_India\n",
            "https://en.wikipedia.org/w/index.php?search=COVID-19+pandemic+in+Indiahttps%3A%2F%2Fen.wikipedia.org%2Fwiki%2FCOVID-19+pandemic+in+India&title=Special%3ASearch&fulltext=1\n",
            "/wiki/Wikipedia:Template_editor\n",
            "https://en.wikipedia.org/w/index.php?search=COVID-19+pandemic+in+Indiahttps%3A%2F%2Fen.wikipedia.org%2Fwiki%2FCOVID-19+pandemic+in+India&title=Special%3ASearch&fulltext=1&ns0=1\n",
            "/wiki/Special:WhatLinksHere/COVID-19_pandemic_in_Indiahttps://en.wikipedia.org/wiki/COVID-19_pandemic_in_India\n",
            "/wiki/Special:Purge/COVID-19_pandemic_in_Indiahttps://en.wikipedia.org/wiki/COVID-19_pandemic_in_India\n",
            "/wiki/Case_sensitivity\n",
            "https://en.wikipedia.org/w/index.php?search=COVID-19+pandemic+in+Indiahttps%3A%2F%2Fen.wikipedia.org%2Fwiki%2FCOVID-19+pandemic+in+India&title=Special%3ASearch&fulltext=1\n",
            "/wiki/Wikipedia:Redirect\n",
            "https://en.wikipedia.org/w/index.php?title=Special:Log/delete&page=COVID-19_pandemic_in_Indiahttps://en.wikipedia.org/wiki/COVID-19_pandemic_in_India\n",
            "/wiki/Wikipedia:Why_was_the_page_I_created_deleted%3F\n",
            "https://en.wikipedia.org/wiki/COVID-19_pandemic_in_Indiahttps://en.wikipedia.org/wiki/COVID-19_pandemic_in_India\n",
            "https://foundation.wikimedia.org/wiki/Special:MyLanguage/Policy:Privacy_policy\n",
            "/wiki/Wikipedia:About\n",
            "/wiki/Wikipedia:General_disclaimer\n",
            "//en.wikipedia.org/wiki/Wikipedia:Contact_us\n",
            "https://foundation.wikimedia.org/wiki/Special:MyLanguage/Policy:Universal_Code_of_Conduct\n",
            "https://developer.wikimedia.org\n",
            "https://stats.wikimedia.org/#/en.wikipedia.org\n",
            "https://foundation.wikimedia.org/wiki/Special:MyLanguage/Policy:Cookie_statement\n",
            "//en.m.wikipedia.org/w/index.php?title=COVID-19_pandemic_in_Indiahttps://en.wikipedia.org/wiki/COVID-19_pandemic_in_India&mobileaction=toggle_view_mobile\n",
            "https://wikimediafoundation.org/\n",
            "https://www.mediawiki.org/\n"
          ]
        }
      ]
    },
    {
      "cell_type": "code",
      "source": [
        "for content in soup.find_all('div',id='toc',class_='toc'):\n",
        "      print(content.text)"
      ],
      "metadata": {
        "id": "CbfrH-_8_U3d"
      },
      "execution_count": 18,
      "outputs": []
    },
    {
      "cell_type": "code",
      "source": [],
      "metadata": {
        "colab": {
          "base_uri": "https://localhost:8080/"
        },
        "id": "gsuQjT9V_VXC",
        "outputId": "c669d1fc-209c-40b5-a222-2462e21542fb"
      },
      "execution_count": 19,
      "outputs": [
        {
          "output_type": "execute_result",
          "data": {
            "text/plain": [
              "[]"
            ]
          },
          "metadata": {},
          "execution_count": 19
        }
      ]
    },
    {
      "cell_type": "code",
      "source": [],
      "metadata": {
        "id": "WFQ5NwObf-jX"
      },
      "execution_count": null,
      "outputs": []
    }
  ]
}