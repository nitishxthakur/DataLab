{
  "nbformat": 4,
  "nbformat_minor": 0,
  "metadata": {
    "colab": {
      "provenance": [],
      "authorship_tag": "ABX9TyO7eINnQhur6W73yobBilLJ",
      "include_colab_link": true
    },
    "kernelspec": {
      "name": "python3",
      "display_name": "Python 3"
    },
    "language_info": {
      "name": "python"
    }
  },
  "cells": [
    {
      "cell_type": "markdown",
      "metadata": {
        "id": "view-in-github",
        "colab_type": "text"
      },
      "source": [
        "<a href=\"https://colab.research.google.com/github/nitishxthakur/DataLab/blob/main/Vehicle_Image_Dataset_Preprocessing.ipynb\" target=\"_parent\"><img src=\"https://colab.research.google.com/assets/colab-badge.svg\" alt=\"Open In Colab\"/></a>"
      ]
    },
    {
      "cell_type": "markdown",
      "source": [
        "***Installing the Kaggle API***"
      ],
      "metadata": {
        "id": "WQvr1XpnjL6u"
      }
    },
    {
      "cell_type": "code",
      "execution_count": 1,
      "metadata": {
        "colab": {
          "base_uri": "https://localhost:8080/"
        },
        "id": "KoMxcwquBP2s",
        "outputId": "462c554d-3e5f-432a-f986-f4392a39d5d7"
      },
      "outputs": [
        {
          "output_type": "stream",
          "name": "stdout",
          "text": [
            "Requirement already satisfied: kaggle in /usr/local/lib/python3.10/dist-packages (1.6.17)\n",
            "Requirement already satisfied: six>=1.10 in /usr/local/lib/python3.10/dist-packages (from kaggle) (1.16.0)\n",
            "Requirement already satisfied: certifi>=2023.7.22 in /usr/local/lib/python3.10/dist-packages (from kaggle) (2024.8.30)\n",
            "Requirement already satisfied: python-dateutil in /usr/local/lib/python3.10/dist-packages (from kaggle) (2.8.2)\n",
            "Requirement already satisfied: requests in /usr/local/lib/python3.10/dist-packages (from kaggle) (2.32.3)\n",
            "Requirement already satisfied: tqdm in /usr/local/lib/python3.10/dist-packages (from kaggle) (4.66.6)\n",
            "Requirement already satisfied: python-slugify in /usr/local/lib/python3.10/dist-packages (from kaggle) (8.0.4)\n",
            "Requirement already satisfied: urllib3 in /usr/local/lib/python3.10/dist-packages (from kaggle) (2.2.3)\n",
            "Requirement already satisfied: bleach in /usr/local/lib/python3.10/dist-packages (from kaggle) (6.2.0)\n",
            "Requirement already satisfied: webencodings in /usr/local/lib/python3.10/dist-packages (from bleach->kaggle) (0.5.1)\n",
            "Requirement already satisfied: text-unidecode>=1.3 in /usr/local/lib/python3.10/dist-packages (from python-slugify->kaggle) (1.3)\n",
            "Requirement already satisfied: charset-normalizer<4,>=2 in /usr/local/lib/python3.10/dist-packages (from requests->kaggle) (3.4.0)\n",
            "Requirement already satisfied: idna<4,>=2.5 in /usr/local/lib/python3.10/dist-packages (from requests->kaggle) (3.10)\n"
          ]
        }
      ],
      "source": [
        "!pip install kaggle"
      ]
    },
    {
      "cell_type": "markdown",
      "source": [
        "# API to fetch the dataset from Kaggle"
      ],
      "metadata": {
        "id": "tQjJ-KZhj43Y"
      }
    },
    {
      "cell_type": "code",
      "source": [
        "\n",
        "!kaggle datasets download -d mmohaiminulislam/vehicles-image-dataset"
      ],
      "metadata": {
        "colab": {
          "base_uri": "https://localhost:8080/"
        },
        "id": "a1j0YIrAwEzF",
        "outputId": "acfa0664-200a-4067-9963-67b65b4bb80d"
      },
      "execution_count": 2,
      "outputs": [
        {
          "output_type": "stream",
          "name": "stdout",
          "text": [
            "Dataset URL: https://www.kaggle.com/datasets/mmohaiminulislam/vehicles-image-dataset\n",
            "License(s): apache-2.0\n",
            "Downloading vehicles-image-dataset.zip to /content\n",
            " 99% 1.63G/1.64G [00:19<00:00, 132MB/s]\n",
            "100% 1.64G/1.64G [00:20<00:00, 87.5MB/s]\n"
          ]
        }
      ]
    },
    {
      "cell_type": "markdown",
      "source": [
        "# extracting the compessed Dataset"
      ],
      "metadata": {
        "id": "UlaC1ORUj8-b"
      }
    },
    {
      "cell_type": "code",
      "source": [
        "\n",
        "from zipfile import ZipFile\n",
        "dataset = '/content/vehicles-image-dataset.zip'\n",
        "\n",
        "with ZipFile(dataset,'r') as zip:\n",
        "  zip.extractall()\n",
        "  print('The dataset is extracted')"
      ],
      "metadata": {
        "colab": {
          "base_uri": "https://localhost:8080/"
        },
        "id": "141kG3H_xLYJ",
        "outputId": "1f7bcaf4-7670-4731-e6a9-1fd331a672eb"
      },
      "execution_count": 3,
      "outputs": [
        {
          "output_type": "stream",
          "name": "stdout",
          "text": [
            "The dataset is extracted\n"
          ]
        }
      ]
    },
    {
      "cell_type": "markdown",
      "source": [
        "***Importing the Google Colab files Module***"
      ],
      "metadata": {
        "id": "5CiKhyv0kDGW"
      }
    },
    {
      "cell_type": "code",
      "source": [
        "from google.colab import files"
      ],
      "metadata": {
        "id": "RqCmpMGWnH3n"
      },
      "execution_count": 13,
      "outputs": []
    },
    {
      "cell_type": "markdown",
      "source": [
        "***Renaming Files from the Folder***"
      ],
      "metadata": {
        "id": "PRYAN80BkJ3U"
      }
    },
    {
      "cell_type": "code",
      "source": [
        "import os\n",
        "\n",
        "folder_path = '/content/unicycle'\n",
        "\n",
        "# Get a list of files and sort them\n",
        "file_list = os.listdir(folder_path)\n",
        "file_list.sort()  # Sort files in ascending order\n",
        "\n",
        "file_count = 1\n",
        "\n",
        "for filename in file_list:\n",
        "    if os.path.isfile(os.path.join(folder_path, filename)):\n",
        "        new_filename = f'unicycle{file_count}'\n",
        "        os.rename(os.path.join(folder_path, filename),\n",
        "                  os.path.join(folder_path, new_filename + os.path.splitext(filename)[1]))\n",
        "        file_count += 1\n",
        "\n",
        "print(\"Files renamed successfully!\")"
      ],
      "metadata": {
        "colab": {
          "base_uri": "https://localhost:8080/"
        },
        "id": "FT8P5QM4bUtV",
        "outputId": "b6d3194a-7a62-454a-fcb1-ba6aa05d375f"
      },
      "execution_count": 55,
      "outputs": [
        {
          "output_type": "stream",
          "name": "stdout",
          "text": [
            "Files renamed successfully!\n"
          ]
        }
      ]
    },
    {
      "cell_type": "markdown",
      "source": [
        "***Copying the Data to a New Dataset***"
      ],
      "metadata": {
        "id": "8OcfeqYCkjde"
      }
    },
    {
      "cell_type": "code",
      "source": [
        "import shutil\n",
        "\n",
        "source_path = '/content/vehicle_data/ambulance'  # Path to the directory within the extracted dataset\n",
        "destination_path = '/content/new_dataset9'  # Path where you want to save the dataset\n",
        "\n",
        "# Use shutil.copytree() to copy the entire directory and its contents,\n",
        "# setting dirs_exist_ok=True to overwrite the destination if it exists.\n",
        "shutil.copytree(source_path, destination_path, dirs_exist_ok=True)"
      ],
      "metadata": {
        "colab": {
          "base_uri": "https://localhost:8080/",
          "height": 35
        },
        "id": "-sY1IURkm9qo",
        "outputId": "e3c28aea-fc94-4b0a-ae53-38f46a50b869"
      },
      "execution_count": 34,
      "outputs": [
        {
          "output_type": "execute_result",
          "data": {
            "text/plain": [
              "'/content/new_dataset9'"
            ],
            "application/vnd.google.colaboratory.intrinsic+json": {
              "type": "string"
            }
          },
          "metadata": {},
          "execution_count": 34
        }
      ]
    },
    {
      "cell_type": "markdown",
      "source": [
        "***Compressing the Folder***"
      ],
      "metadata": {
        "id": "36qr60LZktJZ"
      }
    },
    {
      "cell_type": "code",
      "source": [
        "!zip -r /content/van.zip /content/van"
      ],
      "metadata": {
        "colab": {
          "base_uri": "https://localhost:8080/"
        },
        "id": "b4ntV0WhqOe-",
        "outputId": "b8c1286d-d259-4dec-e370-2fa5ee3a57be"
      },
      "execution_count": 65,
      "outputs": [
        {
          "output_type": "stream",
          "name": "stdout",
          "text": [
            "  adding: content/van/ (stored 0%)\n",
            "  adding: content/van/van125.jpg (deflated 1%)\n",
            "  adding: content/van/van162.jpg (deflated 0%)\n",
            "  adding: content/van/van62.jpg (deflated 0%)\n",
            "  adding: content/van/van167.png (deflated 0%)\n",
            "  adding: content/van/van23.jpg (deflated 1%)\n",
            "  adding: content/van/van30.jpg (deflated 1%)\n",
            "  adding: content/van/van185.jpg (deflated 7%)\n",
            "  adding: content/van/van2.jpg (deflated 33%)\n",
            "  adding: content/van/van164.jpg (deflated 1%)\n",
            "  adding: content/van/van83.jpg (deflated 4%)\n",
            "  adding: content/van/van107.jpg (deflated 1%)\n",
            "  adding: content/van/van36.jpeg (deflated 1%)\n",
            "  adding: content/van/van58.jpeg (deflated 0%)\n",
            "  adding: content/van/van38.jpg (deflated 1%)\n",
            "  adding: content/van/van180.jpg (deflated 4%)\n",
            "  adding: content/van/van1.jpg (deflated 0%)\n",
            "  adding: content/van/van165.jpg (deflated 5%)\n",
            "  adding: content/van/van110.jpg (deflated 0%)\n",
            "  adding: content/van/van94.jpg (deflated 1%)\n",
            "  adding: content/van/van149.jpg (deflated 0%)\n",
            "  adding: content/van/van143.jpg (deflated 3%)\n",
            "  adding: content/van/van122.jpg (deflated 0%)\n",
            "  adding: content/van/van32.jpg (deflated 3%)\n",
            "  adding: content/van/van146.jpg (deflated 0%)\n",
            "  adding: content/van/van53.jpg (deflated 0%)\n",
            "  adding: content/van/van106.jpg (deflated 0%)\n",
            "  adding: content/van/van98.jpg (deflated 1%)\n",
            "  adding: content/van/van18.jpg (deflated 0%)\n",
            "  adding: content/van/van147.jpg (deflated 5%)\n",
            "  adding: content/van/van79.jpg (deflated 1%)\n",
            "  adding: content/van/van157.jpg (deflated 0%)\n",
            "  adding: content/van/van12.jpg (deflated 4%)\n",
            "  adding: content/van/van74.jpg (deflated 12%)\n",
            "  adding: content/van/van3.jpg (deflated 3%)\n",
            "  adding: content/van/van37.jpg (deflated 0%)\n",
            "  adding: content/van/van114.JPG (deflated 0%)\n",
            "  adding: content/van/van115.jpg (deflated 0%)\n",
            "  adding: content/van/van66.jpg (deflated 0%)\n",
            "  adding: content/van/van4.jpg (deflated 0%)\n",
            "  adding: content/van/van27.jpg (deflated 0%)\n",
            "  adding: content/van/van39.jpg (deflated 1%)\n",
            "  adding: content/van/van124.png (deflated 0%)\n",
            "  adding: content/van/van26.jpg (deflated 17%)\n",
            "  adding: content/van/van20.JPG (deflated 0%)\n",
            "  adding: content/van/van152.jpg (deflated 3%)\n",
            "  adding: content/van/van154.jpg (deflated 1%)\n",
            "  adding: content/van/van171.jpg (deflated 0%)\n",
            "  adding: content/van/van144.jpg (deflated 0%)\n",
            "  adding: content/van/van141.jpg (deflated 2%)\n",
            "  adding: content/van/van86.jpg (deflated 0%)\n",
            "  adding: content/van/van126.jpg (deflated 1%)\n",
            "  adding: content/van/van174.jpg (deflated 1%)\n",
            "  adding: content/van/van112.jpg (deflated 0%)\n",
            "  adding: content/van/van87.jpg (deflated 1%)\n",
            "  adding: content/van/van78.jpg (deflated 0%)\n",
            "  adding: content/van/van172.jpg (deflated 0%)\n",
            "  adding: content/van/van85.jpg (deflated 1%)\n",
            "  adding: content/van/van68.jpeg (deflated 0%)\n",
            "  adding: content/van/van170.jpg (deflated 1%)\n",
            "  adding: content/van/van145.jpg (deflated 0%)\n",
            "  adding: content/van/van44.jpg (deflated 0%)\n",
            "  adding: content/van/van158.jpg (deflated 4%)\n",
            "  adding: content/van/van80.jpg (deflated 0%)\n",
            "  adding: content/van/van187.jpg (deflated 2%)\n",
            "  adding: content/van/van189.jpg (deflated 0%)\n",
            "  adding: content/van/van128.jpg (deflated 0%)\n",
            "  adding: content/van/van21.jpg (deflated 25%)\n",
            "  adding: content/van/van163.jpg (deflated 1%)\n",
            "  adding: content/van/van121.jpg (deflated 3%)\n",
            "  adding: content/van/van6.jpg (deflated 0%)\n",
            "  adding: content/van/van72.png (deflated 1%)\n",
            "  adding: content/van/van70.jpg (deflated 0%)\n",
            "  adding: content/van/van99.jpg (deflated 1%)\n",
            "  adding: content/van/van140.jpg (deflated 2%)\n",
            "  adding: content/van/van186.jpg (deflated 35%)\n",
            "  adding: content/van/van92.jpg (deflated 7%)\n",
            "  adding: content/van/van17.jpg (deflated 0%)\n",
            "  adding: content/van/van16.jpg (deflated 0%)\n",
            "  adding: content/van/van130.jpg (deflated 0%)\n",
            "  adding: content/van/van73.jpg (deflated 0%)\n",
            "  adding: content/van/van11.jpg (deflated 0%)\n",
            "  adding: content/van/van108.jpg (deflated 0%)\n",
            "  adding: content/van/van127.jpg (deflated 17%)\n",
            "  adding: content/van/van135.jpg (deflated 1%)\n",
            "  adding: content/van/van178.jpg (deflated 2%)\n",
            "  adding: content/van/van113.jpg (deflated 1%)\n",
            "  adding: content/van/van177.jpg (deflated 0%)\n",
            "  adding: content/van/van96.jpg (deflated 0%)\n",
            "  adding: content/van/van31.jpg (deflated 32%)\n",
            "  adding: content/van/van22.jpg (deflated 1%)\n",
            "  adding: content/van/van10.jpg (deflated 0%)\n",
            "  adding: content/van/van63.jpg (deflated 1%)\n",
            "  adding: content/van/van56.jpg (deflated 5%)\n",
            "  adding: content/van/van101.jpg (deflated 1%)\n",
            "  adding: content/van/van139.jpg (deflated 0%)\n",
            "  adding: content/van/van52.jpg (deflated 1%)\n",
            "  adding: content/van/van81.jpg (deflated 2%)\n",
            "  adding: content/van/van24.jpg (deflated 1%)\n",
            "  adding: content/van/van28.jpg (deflated 0%)\n",
            "  adding: content/van/van89.jpg (deflated 0%)\n",
            "  adding: content/van/van166.jpg (deflated 4%)\n",
            "  adding: content/van/van41.jpg (deflated 0%)\n",
            "  adding: content/van/van7.jpg (deflated 0%)\n",
            "  adding: content/van/van95.jpg (deflated 0%)\n",
            "  adding: content/van/van54.jpg (deflated 0%)\n",
            "  adding: content/van/van129.jpg (deflated 1%)\n",
            "  adding: content/van/van45.jpg (deflated 1%)\n",
            "  adding: content/van/van15.jpg (deflated 0%)\n",
            "  adding: content/van/van9.ashx (deflated 36%)\n",
            "  adding: content/van/van93.png (deflated 0%)\n",
            "  adding: content/van/van160.jpg (deflated 3%)\n",
            "  adding: content/van/van176.jpg (deflated 0%)\n",
            "  adding: content/van/van42.jpg (deflated 0%)\n",
            "  adding: content/van/van43.png (deflated 0%)\n",
            "  adding: content/van/van69.jpg (deflated 1%)\n",
            "  adding: content/van/van118.jpg (deflated 4%)\n",
            "  adding: content/van/van40.jpg (deflated 0%)\n",
            "  adding: content/van/van179.jpg (deflated 0%)\n",
            "  adding: content/van/van57.jpg (deflated 1%)\n",
            "  adding: content/van/van156.jpeg (deflated 1%)\n",
            "  adding: content/van/van136.png (deflated 0%)\n",
            "  adding: content/van/van19.jpg (deflated 1%)\n",
            "  adding: content/van/van117.jpg (deflated 2%)\n",
            "  adding: content/van/van105.jpg (deflated 0%)\n",
            "  adding: content/van/van84.jpg (deflated 10%)\n",
            "  adding: content/van/van50.png (deflated 1%)\n",
            "  adding: content/van/van82.jpg (deflated 2%)\n",
            "  adding: content/van/van188.jpg (deflated 4%)\n",
            "  adding: content/van/van49.jpg (deflated 0%)\n",
            "  adding: content/van/van120.jpeg (deflated 2%)\n",
            "  adding: content/van/van67.JPG (deflated 0%)\n",
            "  adding: content/van/van131.jpg (deflated 10%)\n",
            "  adding: content/van/van159.jpg (deflated 1%)\n",
            "  adding: content/van/van183.jpg (deflated 0%)\n",
            "  adding: content/van/van102.jpg (deflated 0%)\n",
            "  adding: content/van/van29.jpg (deflated 12%)\n",
            "  adding: content/van/van90.jpg (deflated 0%)\n",
            "  adding: content/van/van169.jpg (deflated 1%)\n",
            "  adding: content/van/van34.jpg (deflated 1%)\n",
            "  adding: content/van/van155.jpg (deflated 2%)\n",
            "  adding: content/van/van14.JPG (deflated 0%)\n",
            "  adding: content/van/van123.jpg (deflated 0%)\n",
            "  adding: content/van/van64.jpg (deflated 0%)\n",
            "  adding: content/van/van137.jpg (deflated 0%)\n",
            "  adding: content/van/van142.jpg (deflated 0%)\n",
            "  adding: content/van/van116.jpg (deflated 0%)\n",
            "  adding: content/van/van133.jpeg (deflated 0%)\n",
            "  adding: content/van/van175.jpg (deflated 39%)\n",
            "  adding: content/van/van55.jpg (deflated 1%)\n",
            "  adding: content/van/van97.jpg (deflated 0%)\n",
            "  adding: content/van/van59.jpg (deflated 0%)\n",
            "  adding: content/van/van47.png (deflated 2%)\n",
            "  adding: content/van/van138.jpg (deflated 1%)\n",
            "  adding: content/van/van35.jpg (deflated 0%)\n",
            "  adding: content/van/van8.jpg (deflated 3%)\n",
            "  adding: content/van/van168.jpg (deflated 1%)\n",
            "  adding: content/van/van60.jpg (deflated 1%)\n",
            "  adding: content/van/van71.png (deflated 0%)\n",
            "  adding: content/van/van134.jpg (deflated 0%)\n",
            "  adding: content/van/van51.jpg (deflated 1%)\n",
            "  adding: content/van/van109.jpg (deflated 1%)\n",
            "  adding: content/van/van184.jpg (deflated 0%)\n",
            "  adding: content/van/van33.jpeg (deflated 1%)\n",
            "  adding: content/van/van61.jpeg (deflated 0%)\n",
            "  adding: content/van/van76.jpg (deflated 34%)\n",
            "  adding: content/van/van111.jpg (deflated 3%)\n",
            "  adding: content/van/van46.jpg (deflated 1%)\n",
            "  adding: content/van/van150.jpg (deflated 0%)\n",
            "  adding: content/van/van48.jpg (deflated 1%)\n",
            "  adding: content/van/van65.jpg (deflated 5%)\n",
            "  adding: content/van/van88.jpg (deflated 0%)\n",
            "  adding: content/van/van100.jpg (deflated 0%)\n",
            "  adding: content/van/van132.jpg (deflated 1%)\n",
            "  adding: content/van/van103.jpg (deflated 0%)\n",
            "  adding: content/van/van182.jpg (deflated 0%)\n",
            "  adding: content/van/van91.jpg (deflated 4%)\n",
            "  adding: content/van/van77.jpg (deflated 0%)\n",
            "  adding: content/van/van119.png (deflated 0%)\n",
            "  adding: content/van/van25.jpg (deflated 28%)\n",
            "  adding: content/van/van75.jpeg (deflated 0%)\n",
            "  adding: content/van/van181.jpg (deflated 1%)\n",
            "  adding: content/van/van173.JPG (deflated 0%)\n",
            "  adding: content/van/van5.jpg (deflated 13%)\n",
            "  adding: content/van/van148.JPG (deflated 1%)\n",
            "  adding: content/van/van153.jpg (deflated 0%)\n",
            "  adding: content/van/van104.jpg (deflated 0%)\n",
            "  adding: content/van/van151.jpg (deflated 27%)\n",
            "  adding: content/van/van161.jpg (deflated 0%)\n",
            "  adding: content/van/van13.jpg (deflated 4%)\n"
          ]
        }
      ]
    },
    {
      "cell_type": "code",
      "source": [],
      "metadata": {
        "id": "PEmK55UNnf3y"
      },
      "execution_count": null,
      "outputs": []
    }
  ]
}